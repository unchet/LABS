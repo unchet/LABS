{
 "cells": [
  {
   "cell_type": "markdown",
   "metadata": {},
   "source": [
    "# Лабораторная №2"
   ]
  },
  {
   "cell_type": "markdown",
   "metadata": {},
   "source": [
    "## Ильиных В. М. М8О-201Б-19"
   ]
  },
  {
   "cell_type": "markdown",
   "metadata": {},
   "source": [
    "### Задание 1\n",
    "#### Метод прямоугольников и метод трапеций"
   ]
  },
  {
   "cell_type": "code",
   "execution_count": 26,
   "metadata": {},
   "outputs": [
    {
     "name": "stdout",
     "output_type": "stream",
     "text": [
      "Функция:\n"
     ]
    },
    {
     "data": {
      "text/html": [
       "<html><script type=\"math/tex; mode=display\">\\newcommand{\\Bold}[1]{\\mathbf{#1}}x \\ {\\mapsto}\\ \\frac{\\log\\left(x - 2\\right) + 1}{x - 2}</script></html>"
      ],
      "text/latex": [
       "\\begin{math}\n",
       "\\newcommand{\\Bold}[1]{\\mathbf{#1}}x \\ {\\mapsto}\\ \\frac{\\log\\left(x - 2\\right) + 1}{x - 2}\n",
       "\\end{math}"
      ],
      "text/plain": [
       "x |--> (log(x - 2) + 1)/(x - 2)"
      ]
     },
     "metadata": {},
     "output_type": "display_data"
    }
   ],
   "source": [
    "h(x) = (ln(x-2) + 1) / (x-2)\n",
    "print(\"Функция:\")\n",
    "h.show()"
   ]
  },
  {
   "cell_type": "code",
   "execution_count": 27,
   "metadata": {},
   "outputs": [],
   "source": [
    "def rectangle(y, a, b, counter):\n",
    "    step = (b - a) / counter\n",
    "    x_ = []\n",
    "    for i in range(counter):\n",
    "        x_.append(a + i * step)\n",
    "    x_.append(b)\n",
    "    y_ = []\n",
    "    min_val = 0\n",
    "    max_val = 0\n",
    "    for i in range(counter):\n",
    "        y_cur = y(x_[i])\n",
    "        min_val = min(y_cur, min_val)\n",
    "        max_val = max(y_cur, max_val)\n",
    "        y_.append(y_cur)\n",
    "    \n",
    "    graphic = plot(y, xmin = a, xmax = b, ymin = min_val, ymax = max_val, color = \"red\")\n",
    "    for i in range(counter):\n",
    "        rect = [\n",
    "            [x_[i], 0],\n",
    "            [x_[i], y_[i]],\n",
    "            [x_[i + 1], y_[i]],\n",
    "            [x_[i + 1], 0]\n",
    "        ]\n",
    "        rect.append(rect[0])\n",
    "        graphic += line(rect, color = \"green\")\n",
    "    return graphic\n",
    "\n",
    "def trapezoid(y, a, b, counter):\n",
    "    step = (b - a) / counter\n",
    "    x_ = []\n",
    "    for i in range(counter):\n",
    "        x_.append(a + i * step)\n",
    "    x_.append(b)\n",
    "    y_ = []\n",
    "    min_val = 0\n",
    "    max_val = 0\n",
    "    for i in range(counter + 1):\n",
    "        y_cur = y(x_[i])\n",
    "        min_val = min(y_cur, min_val)\n",
    "        max_val = max(y_cur, max_val)\n",
    "        y_.append(y_cur)\n",
    "   \n",
    "    graphic = plot(y, xmin = a, xmax = b, ymin = min_val, ymax = max_val, color = \"red\")\n",
    "    for i in range(counter):\n",
    "        trap = [\n",
    "            [x_[i], 0],\n",
    "            [x_[i], y_[i]],\n",
    "            [x_[i + 1], y_[i+1]],\n",
    "            [x_[i + 1], 0]\n",
    "        ]\n",
    "        trap.append(trap[0])\n",
    "        graphic += line(trap, color = \"green\")\n",
    "    return graphic"
   ]
  },
  {
   "cell_type": "code",
   "execution_count": 28,
   "metadata": {},
   "outputs": [],
   "source": [
    "a = 3\n",
    "b = 25\n",
    "\n",
    "min_steps = 1\n",
    "max_steps = 100"
   ]
  },
  {
   "cell_type": "code",
   "execution_count": 29,
   "metadata": {
    "scrolled": false
   },
   "outputs": [
    {
     "data": {
      "application/vnd.jupyter.widget-view+json": {
       "model_id": "4dc625ba8ea048fd9ebd409971a5f8e2",
       "version_major": 2,
       "version_minor": 0
      },
      "text/plain": [
       "Interactive function <function _ at 0x6ffed911b320> with 1 widget\n",
       "  step: IntSlider(value=50, description='ste…"
      ]
     },
     "metadata": {},
     "output_type": "display_data"
    }
   ],
   "source": [
    "@interact\n",
    "def _(step = (min_steps, max_steps, 1)):\n",
    "    Rect = rectangle(h, a, b, step)\n",
    "    Trap = trapezoid(h, a, b, step)\n",
    "    graphics_array([Rect, Trap]).show(frame=True, axes=False)"
   ]
  },
  {
   "cell_type": "markdown",
   "metadata": {},
   "source": [
    "### Задание 2\n",
    "### Вариант 4"
   ]
  },
  {
   "cell_type": "code",
   "execution_count": 30,
   "metadata": {},
   "outputs": [],
   "source": [
    "def euclid_algorythm(a, b):\n",
    "    if (a == 0):\n",
    "        return (b, 0, 1)\n",
    "    q = b // a\n",
    "    r = b % a\n",
    "    d, x1, y1 = (i for i in euclid_algorythm(r, a))\n",
    "    x = y1 - q * x1\n",
    "    y = x1\n",
    "    return (d, x, y)"
   ]
  },
  {
   "cell_type": "code",
   "execution_count": 31,
   "metadata": {},
   "outputs": [
    {
     "data": {
      "text/html": [
       "<html><script type=\"math/tex; mode=display\">\\newcommand{\\Bold}[1]{\\mathbf{#1}}\\gcd(f(x), g(x)) = x^{2} - \\frac{11}{5} x + \\frac{1}{5}</script></html>"
      ],
      "text/latex": [
       "\\begin{math}\n",
       "\\newcommand{\\Bold}[1]{\\mathbf{#1}}\\gcd(f(x), g(x)) = x^{2} - \\frac{11}{5} x + \\frac{1}{5}\n",
       "\\end{math}"
      ],
      "text/plain": [
       "\\gcd(f(x), g(x)) = x^{2} - \\frac{11}{5} x + \\frac{1}{5}"
      ]
     },
     "metadata": {},
     "output_type": "display_data"
    },
    {
     "data": {
      "text/html": [
       "<html><script type=\"math/tex; mode=display\">\\newcommand{\\Bold}[1]{\\mathbf{#1}}\\gcd^{\\sim}(f(x), g(x)) = 640 x^{2} - 1408 x + 128</script></html>"
      ],
      "text/latex": [
       "\\begin{math}\n",
       "\\newcommand{\\Bold}[1]{\\mathbf{#1}}\\gcd^{\\sim}(f(x), g(x)) = 640 x^{2} - 1408 x + 128\n",
       "\\end{math}"
      ],
      "text/plain": [
       "\\gcd^{\\sim}(f(x), g(x)) = 640 x^{2} - 1408 x + 128"
      ]
     },
     "metadata": {},
     "output_type": "display_data"
    }
   ],
   "source": [
    "R.<x> = QQ[\"x\"]\n",
    "f = 5*x^5 - 21*x^4 + 23*x^3 - 37*x^2 + 77*x - 7\n",
    "g = 10*x^4 - 42*x^3 + 56*x^2 - 26*x + 2\n",
    "show(LatexExpr(r'\\gcd(f(x), g(x)) = ' + latex(gcd(f, g))))\n",
    "d, _a, _b = (i for i in euclid_algorythm(f, g))\n",
    "show(LatexExpr(r'\\gcd^{\\sim}(f(x), g(x)) = ' + latex(d)))"
   ]
  },
  {
   "cell_type": "markdown",
   "metadata": {},
   "source": [
    "Алгоритм вывел результат, который в 640 раз больше стандартного"
   ]
  },
  {
   "cell_type": "code",
   "execution_count": 32,
   "metadata": {},
   "outputs": [
    {
     "data": {
      "text/html": [
       "<html><script type=\"math/tex; mode=display\">\\newcommand{\\Bold}[1]{\\mathbf{#1}}f(x) * u + v * g(x) = \\gcd(f(x), g(x))</script></html>"
      ],
      "text/latex": [
       "\\begin{math}\n",
       "\\newcommand{\\Bold}[1]{\\mathbf{#1}}f(x) * u + v * g(x) = \\gcd(f(x), g(x))\n",
       "\\end{math}"
      ],
      "text/plain": [
       "f(x) * u + v * g(x) = \\gcd(f(x), g(x))"
      ]
     },
     "metadata": {},
     "output_type": "display_data"
    },
    {
     "data": {
      "text/html": [
       "<html><script type=\"math/tex; mode=display\">\\newcommand{\\Bold}[1]{\\mathbf{#1}}u = 2 x - 18</script></html>"
      ],
      "text/latex": [
       "\\begin{math}\n",
       "\\newcommand{\\Bold}[1]{\\mathbf{#1}}u = 2 x - 18\n",
       "\\end{math}"
      ],
      "text/plain": [
       "u = 2 x - 18"
      ]
     },
     "metadata": {},
     "output_type": "display_data"
    },
    {
     "data": {
      "text/html": [
       "<html><script type=\"math/tex; mode=display\">\\newcommand{\\Bold}[1]{\\mathbf{#1}}v = -x^{2} + 9 x + 1</script></html>"
      ],
      "text/latex": [
       "\\begin{math}\n",
       "\\newcommand{\\Bold}[1]{\\mathbf{#1}}v = -x^{2} + 9 x + 1\n",
       "\\end{math}"
      ],
      "text/plain": [
       "v = -x^{2} + 9 x + 1"
      ]
     },
     "metadata": {},
     "output_type": "display_data"
    },
    {
     "data": {
      "text/html": [
       "<html><script type=\"math/tex; mode=display\">\\newcommand{\\Bold}[1]{\\mathbf{#1}}( 5 x^{5} - 21 x^{4} + 23 x^{3} - 37 x^{2} + 77 x - 7 ) * ( 2 x - 18 ) + ( -x^{2} + 9 x + 1 ) * ( 10 x^{4} - 42 x^{3} + 56 x^{2} - 26 x + 2 ) = 640 x^{2} - 1408 x + 128</script></html>"
      ],
      "text/latex": [
       "\\begin{math}\n",
       "\\newcommand{\\Bold}[1]{\\mathbf{#1}}( 5 x^{5} - 21 x^{4} + 23 x^{3} - 37 x^{2} + 77 x - 7 ) * ( 2 x - 18 ) + ( -x^{2} + 9 x + 1 ) * ( 10 x^{4} - 42 x^{3} + 56 x^{2} - 26 x + 2 ) = 640 x^{2} - 1408 x + 128\n",
       "\\end{math}"
      ],
      "text/plain": [
       "( 5 x^{5} - 21 x^{4} + 23 x^{3} - 37 x^{2} + 77 x - 7 ) * ( 2 x - 18 ) + ( -x^{2} + 9 x + 1 ) * ( 10 x^{4} - 42 x^{3} + 56 x^{2} - 26 x + 2 ) = 640 x^{2} - 1408 x + 128"
      ]
     },
     "metadata": {},
     "output_type": "display_data"
    }
   ],
   "source": [
    "if ((f(x) * _a + g(x) * _b) == d):\n",
    "    show(LatexExpr(r'f(x) * u + v * g(x) = \\gcd(f(x), g(x))'))\n",
    "    show(LatexExpr(\"u = \" + latex(_a)))\n",
    "    show(LatexExpr(\"v = \" + latex(_b)))\n",
    "    show(LatexExpr(\"(\" + latex(f(x)) + \") * (\" + latex(_a) + \") + (\" + latex(_b) + \") * (\" + latex(g(x)) + \") = \" + latex(d)))"
   ]
  },
  {
   "cell_type": "code",
   "execution_count": null,
   "metadata": {},
   "outputs": [],
   "source": []
  }
 ],
 "metadata": {
  "kernelspec": {
   "display_name": "SageMath 9.2",
   "language": "sage",
   "name": "sagemath"
  },
  "language_info": {
   "codemirror_mode": {
    "name": "ipython",
    "version": 3
   },
   "file_extension": ".py",
   "mimetype": "text/x-python",
   "name": "python",
   "nbconvert_exporter": "python",
   "pygments_lexer": "ipython3",
   "version": "3.7.7"
  }
 },
 "nbformat": 4,
 "nbformat_minor": 4
}
