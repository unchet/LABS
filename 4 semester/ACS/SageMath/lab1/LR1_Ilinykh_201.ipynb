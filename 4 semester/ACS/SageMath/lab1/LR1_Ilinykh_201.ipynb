{
 "cells": [
  {
   "cell_type": "markdown",
   "metadata": {},
   "source": [
    "## Лабораторная №1 "
   ]
  },
  {
   "cell_type": "markdown",
   "metadata": {},
   "source": [
    "## Ильиных В. М. М8О-201Б-19"
   ]
  },
  {
   "cell_type": "markdown",
   "metadata": {},
   "source": [
    "Результат скидывать на почту tt48@mail.ru в виде файла *.ipynb<br>\n",
    "В теме письма указывать, что это второй курс и что это \"системы аналитических вычислений\" или \"пакеты\". + номер ДЗ туда же.<br>\n",
    "В содержании письма указывать ФИО и группу."
   ]
  },
  {
   "cell_type": "markdown",
   "metadata": {},
   "source": [
    "<h1>Задание 0</h1>\n",
    "<pre>\n",
    "Установить SageMath 9.2 (https://www.sagemath.org/)\n",
    "В случае проблем - писать на почту.\n",
    "\t\n",
    "Как резервный вариант - on-line редакторы\n",
    "\thttps://cocalc.com/doc/jupyter-notebook.html\n",
    "\t\tесть некоторые проблемы по LaTeX возможностям.\n",
    "\thttps://sagecell.sagemath.org/\n",
    "\t\tработает, но предоставляется только одна ячейка\n",
    "\t\n",
    "\t- медленнее работают\n",
    "\t\t, есть ограничения по количеству времени на выполнение запроса\n",
    "\t\t, некоторые ошибки по синтаксису опускаются (LaTeX касается)\n",
    "\t\t, больше места экрана уходит на менюшки и прочего.\n",
    "\t\t\n",
    "\t+ ничего устанавливать не нужно. Можно даже не регистрироваться.\n",
    "</pre>"
   ]
  },
  {
   "cell_type": "markdown",
   "metadata": {},
   "source": [
    "<h1>Задание 1 - часть 1 - Квадратик</h1>\n",
    "Доделать начинания, что были на занятии:<br>\n",
    "при помощи функции отображения графиков отобразить квадратик.<br>\n",
    "Задав квадратик матрицей координат, повернуть и сдвинуть его относительно исходного положения.<br>\n",
    "Вывести исходный квадратик и результат.\n"
   ]
  },
  {
   "cell_type": "code",
   "execution_count": 1,
   "metadata": {},
   "outputs": [
    {
     "data": {
      "image/png": "[encoded data removed]",
      "text/plain": [
       "Graphics object consisting of 2 graphics primitives"
      ]
     },
     "metadata": {},
     "output_type": "display_data"
    }
   ],
   "source": [
    "a = 10\n",
    "rectangle_src = matrix([[0, 0], [0, a], [a, a], [a, 0], [0, 0]])\n",
    "alpha = math.radians(-45)\n",
    "mat_rot = matrix([\n",
    "    [cos(alpha), sin(alpha)]\n",
    "    , [ -sin(alpha), cos(alpha)]\n",
    "])\n",
    "end_rectangle = rectangle_src * mat_rot + matrix([[3,3] for i in range(5)])\n",
    "\n",
    "show(\n",
    "    line(rectangle_src)\n",
    "    + line(end_rectangle, rgbcolor = (1,0,0))\n",
    "    , xmin=-10, xmax=20, ymin=-10, ymax=20, aspect_ratio=1)"
   ]
  },
  {
   "cell_type": "markdown",
   "metadata": {},
   "source": [
    "<h1>Задание 1 - часть 2 - Исследование функции</h1>\n",
    "Для заданной формулой функции найти:\n",
    "<ol>\n",
    "    <li>Область определения функции.</li>\n",
    "    <li>Является ли функция четной или нечетной, является ли периодической.</li>\n",
    "    <li>Точки пересечения графика с осями координат.</li>\n",
    "    <li>Промежутки знакопостоянства.</li>\n",
    "    <li>Промежутки возрастания и убывания.</li>\n",
    "    <li>Точки экстремума и значения в этих точках.</li>\n",
    "    <li>Непрерывность. Наличие точек разрыва и их классификация.</li>\n",
    "    <li>Асимптоты.</li>\n",
    "</ol>\n",
    "Построить график функции, асимптоты, промежутки знакопостоянства. (см. папку с материалами).<br>\n",
    "Необходимо также сделать минимальное, но оформление решения, а не просто набор ответов.\n",
    "\n",
    "<h4>Справочные материалы:</h4>\n",
    "<ol>\n",
    "    <li>Гусак, 1999г. - исследование графиков</li>\n",
    "    <li>Ефимов, Поспелов — т.2, стр. 86</li>\n",
    "    <li>Ильин, Поздняк — т.1, стр. 143 и стр. 300-327</li>\n",
    "    <li>Пискунов — стр. 144-184</li>\n",
    "</ol>"
   ]
  },
  {
   "cell_type": "markdown",
   "metadata": {},
   "source": [
    "<h1>Варианты:</h1>"
   ]
  },
  {
   "cell_type": "code",
   "execution_count": 2,
   "metadata": {},
   "outputs": [],
   "source": [
    "tasks = [ \n",
    "            sin(2*x**3)**2/x**3  # исправлен\n",
    "            , (x**2 - 4)*sin((pi*(x**2))/6) / (x**2 - 1)\n",
    "            , sqrt(abs(3*x^3 + 2*x^2 - 10*x)) / (4*x)\n",
    "            , 1/2 * ln(sqrt(x^2 + 1) / sqrt(x^2 - 1)) - 15*x**2\n",
    "            , (x^3 - x^2 - x + 1)^(1/3) / tan(x)\n",
    "            , 2*log((x - 1) / x) + 1\n",
    "            , ln(x - 1) / (x - 1)^2\n",
    "        ]"
   ]
  },
  {
   "cell_type": "markdown",
   "metadata": {},
   "source": [
    "В your_number присвоить ваш номер по списку в рейтинге.\n",
    "Рейтинги ваши лежат <a href='https://docs.google.com/spreadsheets/d/14cdxMHQw2Bd4i_4qoYWzV4olXgaNuckR6ZzWLCQQEUg/edit?usp=sharing'>здесь</a>"
   ]
  },
  {
   "cell_type": "code",
   "execution_count": 3,
   "metadata": {},
   "outputs": [
    {
     "name": "stdout",
     "output_type": "stream",
     "text": [
      "Номер вашего задания: 1.\n"
     ]
    },
    {
     "data": {
      "text/html": [
       "<html><script type=\"math/tex; mode=display\">\\newcommand{\\Bold}[1]{\\mathbf{#1}}\\verb|Ваша|\\phantom{\\verb!x!}\\verb|функция:| \\frac{{\\left(x^{2} - 4\\right)} \\sin\\left(\\frac{1}{6} \\, \\pi x^{2}\\right)}{x^{2} - 1}</script></html>"
      ],
      "text/latex": [
       "\\begin{math}\n",
       "\\newcommand{\\Bold}[1]{\\mathbf{#1}}\\verb|Ваша|\\phantom{\\verb!x!}\\verb|функция:| \\frac{{\\left(x^{2} - 4\\right)} \\sin\\left(\\frac{1}{6} \\, \\pi x^{2}\\right)}{x^{2} - 1}\n",
       "\\end{math}"
      ],
      "text/plain": [
       "'Ваша функция: ' (x^2 - 4)*sin(1/6*pi*x^2)/(x^2 - 1)"
      ]
     },
     "metadata": {},
     "output_type": "display_data"
    }
   ],
   "source": [
    "def get_variant_for_number(_number, _variations_quo):\n",
    "    return (_number - 1) % _variations_quo\n",
    "\n",
    "\n",
    "your_number = 9  # сюда вбить ваш номер по списку в рейтинге \n",
    "number_of_your_task = get_variant_for_number(_number=your_number, _variations_quo=len(tasks))\n",
    "print(f\"Номер вашего задания: {number_of_your_task}.\")\n",
    "show(\"Ваша функция: \", tasks[number_of_your_task])"
   ]
  },
  {
   "cell_type": "markdown",
   "metadata": {},
   "source": [
    "<h1 >Примечание:</h1>\n",
    "номер 1 был изменен в более простую сторону<br>\n",
    "Номер 3 следует исследовать как $(((3*x**3 + 2*x**2 - 10*x)**(2))**(1/4)) / (4*x)$,\n",
    "и поделить на два случая подкоренного выражения (когда значение с минусом и когда с плюсом),\n",
    "чтобы избежать незнакомые операторы и пр.<br>\n",
    "Номер 4 заменен <br>\n",
    "В номере 4 для более простого вида производных использовать simplify_full(). Чтобы не вываливались warning'и - разбить график на два интервала по области определения. Для инофрмативности графиков - ограничить значение по y (параметр ymax у plot или show)."
   ]
  },
  {
   "cell_type": "code",
   "execution_count": 4,
   "metadata": {},
   "outputs": [],
   "source": [
    "f(x) = (x**2 - 4)*sin((pi*(x**2))/6) / (x**2 - 1)"
   ]
  },
  {
   "cell_type": "markdown",
   "metadata": {},
   "source": [
    "Построим график функции:"
   ]
  },
  {
   "cell_type": "code",
   "execution_count": 5,
   "metadata": {
    "scrolled": true
   },
   "outputs": [
    {
     "data": {
      "image/png": "[encoded data removed]",
      "text/plain": [
       "Graphics object consisting of 5 graphics primitives"
      ]
     },
     "metadata": {},
     "output_type": "display_data"
    }
   ],
   "source": [
    "graphics = plot(f, xmin=-5, xmax=5, ymin=-10, ymax=10, detect_poles = true)\n",
    "graphics  += point((0, 0), color=\"red\", size=30, zorder=10)\n",
    "graphics.show()"
   ]
  },
  {
   "cell_type": "markdown",
   "metadata": {},
   "source": [
    "### Область определения функции\n",
    "Найдем область определеления. "
   ]
  },
  {
   "cell_type": "code",
   "execution_count": 6,
   "metadata": {},
   "outputs": [
    {
     "data": {
      "text/plain": [
       "[[x < -1], [[x > -1], [x < 1]], [x > 1]]"
      ]
     },
     "execution_count": 6,
     "metadata": {},
     "output_type": "execute_result"
    }
   ],
   "source": [
    "solve((x**2-1) != 0, x, algorithm = 'sympy') "
   ]
  },
  {
   "cell_type": "markdown",
   "metadata": {},
   "source": [
    "### Периодичность, четность, нечетность функции"
   ]
  },
  {
   "cell_type": "markdown",
   "metadata": {},
   "source": [
    "Определим четность/нечетность:"
   ]
  },
  {
   "cell_type": "code",
   "execution_count": 7,
   "metadata": {},
   "outputs": [
    {
     "name": "stdout",
     "output_type": "stream",
     "text": [
      "Функция чётная\n"
     ]
    }
   ],
   "source": [
    "if (f(x) == f(-x)):\n",
    "    print(\"Функция чётная\")\n",
    "elif (f(x) == -f(-x)):\n",
    "    print(\"Функция нечётная\")"
   ]
  },
  {
   "cell_type": "markdown",
   "metadata": {},
   "source": [
    "Посмотрим периодичность функции:"
   ]
  },
  {
   "cell_type": "code",
   "execution_count": 8,
   "metadata": {},
   "outputs": [
    {
     "data": {
      "text/latex": [
       "$\\displaystyle \\left\\{T \\mid T \\in \\mathbb{C} \\wedge - \\left(x^{2} - 4\\right) \\left(\\left(T + x\\right)^{2} - 1\\right) \\sin{\\left(\\frac{\\pi x^{2}}{6} \\right)} + \\left(x^{2} - 1\\right) \\left(\\left(T + x\\right)^{2} - 4\\right) \\sin{\\left(\\pi \\left(\\frac{T^{2}}{6} + \\frac{T x}{3} + \\frac{x^{2}}{6}\\right) \\right)} = 0 \\right\\} \\setminus \\left\\{1 - x, - x - 1\\right\\}$"
      ],
      "text/plain": [
       "Complement(ConditionSet(T, Eq(-(x**2 - 4)*((T + x)**2 - 1)*sin(pi*x**2/6) + (x**2 - 1)*((T + x)**2 - 4)*sin(pi*(T**2/6 + T*x/3 + x**2/6)), 0), Complexes), FiniteSet(1 - x, -x - 1))"
      ]
     },
     "execution_count": 8,
     "metadata": {},
     "output_type": "execute_result"
    }
   ],
   "source": [
    "var(\"T\")\n",
    "eq1 = f(x) - f(x + T)\n",
    "eq1.simplify_full()\n",
    "solve(eq1, T, algorithm = 'sympy')"
   ]
  },
  {
   "cell_type": "code",
   "execution_count": 9,
   "metadata": {},
   "outputs": [
    {
     "data": {
      "text/html": [
       "<html><script type=\"math/tex; mode=display\">\\newcommand{\\Bold}[1]{\\mathbf{#1}}-\\frac{2}{5} \\, \\sqrt{3}</script></html>"
      ],
      "text/latex": [
       "\\begin{math}\n",
       "\\newcommand{\\Bold}[1]{\\mathbf{#1}}-\\frac{2}{5} \\, \\sqrt{3}\n",
       "\\end{math}"
      ],
      "text/plain": [
       "-2/5*sqrt(3)"
      ]
     },
     "metadata": {},
     "output_type": "display_data"
    },
    {
     "data": {
      "text/html": [
       "<html><script type=\"math/tex; mode=display\">\\newcommand{\\Bold}[1]{\\mathbf{#1}}0</script></html>"
      ],
      "text/latex": [
       "\\begin{math}\n",
       "\\newcommand{\\Bold}[1]{\\mathbf{#1}}0\n",
       "\\end{math}"
      ],
      "text/plain": [
       "0"
      ]
     },
     "metadata": {},
     "output_type": "display_data"
    },
    {
     "name": "stdout",
     "output_type": "stream",
     "text": [
      "f(x)!=f(x-T) => функция непериодична\n"
     ]
    }
   ],
   "source": [
    "show(eq1(x=2, T=2))\n",
    "show(f(x=2))\n",
    "print(\"f(x)!=f(x-T) => функция непериодична\")"
   ]
  },
  {
   "cell_type": "markdown",
   "metadata": {},
   "source": [
    "Функция является чётной и непериодичной. "
   ]
  },
  {
   "cell_type": "markdown",
   "metadata": {},
   "source": [
    "### Точки пересечения графика с осями координат"
   ]
  },
  {
   "cell_type": "code",
   "execution_count": 10,
   "metadata": {},
   "outputs": [
    {
     "name": "stdout",
     "output_type": "stream",
     "text": [
      "Пересечение с осью ординат\n"
     ]
    },
    {
     "data": {
      "text/plain": [
       "[x == 0]"
      ]
     },
     "execution_count": 10,
     "metadata": {},
     "output_type": "execute_result"
    }
   ],
   "source": [
    "print(\"Пересечение с осью ординат\")\n",
    "solve(x == 0, x, algorithm = 'sympy')"
   ]
  },
  {
   "cell_type": "markdown",
   "metadata": {},
   "source": [
    "Пересечение с осью абсцисс\n",
    "Точек бесконечно много, поэтому рассмотрим некоторые из них"
   ]
  },
  {
   "cell_type": "code",
   "execution_count": 11,
   "metadata": {},
   "outputs": [
    {
     "data": {
      "text/html": [
       "<html><script type=\"math/tex; mode=display\">\\newcommand{\\Bold}[1]{\\mathbf{#1}}-2.0</script></html>"
      ],
      "text/latex": [
       "\\begin{math}\n",
       "\\newcommand{\\Bold}[1]{\\mathbf{#1}}-2.0\n",
       "\\end{math}"
      ],
      "text/plain": [
       "-2.0"
      ]
     },
     "metadata": {},
     "output_type": "display_data"
    },
    {
     "data": {
      "text/html": [
       "<html><script type=\"math/tex; mode=display\">\\newcommand{\\Bold}[1]{\\mathbf{#1}}2.0</script></html>"
      ],
      "text/latex": [
       "\\begin{math}\n",
       "\\newcommand{\\Bold}[1]{\\mathbf{#1}}2.0\n",
       "\\end{math}"
      ],
      "text/plain": [
       "2.0"
      ]
     },
     "metadata": {},
     "output_type": "display_data"
    },
    {
     "data": {
      "text/html": [
       "<html><script type=\"math/tex; mode=display\">\\newcommand{\\Bold}[1]{\\mathbf{#1}}-4.242640687119285</script></html>"
      ],
      "text/latex": [
       "\\begin{math}\n",
       "\\newcommand{\\Bold}[1]{\\mathbf{#1}}-4.242640687119285\n",
       "\\end{math}"
      ],
      "text/plain": [
       "-4.242640687119285"
      ]
     },
     "metadata": {},
     "output_type": "display_data"
    },
    {
     "data": {
      "text/html": [
       "<html><script type=\"math/tex; mode=display\">\\newcommand{\\Bold}[1]{\\mathbf{#1}}4.242640687119225</script></html>"
      ],
      "text/latex": [
       "\\begin{math}\n",
       "\\newcommand{\\Bold}[1]{\\mathbf{#1}}4.242640687119225\n",
       "\\end{math}"
      ],
      "text/plain": [
       "4.242640687119225"
      ]
     },
     "metadata": {},
     "output_type": "display_data"
    },
    {
     "data": {
      "text/html": [
       "<html><script type=\"math/tex; mode=display\">\\newcommand{\\Bold}[1]{\\mathbf{#1}}0.0</script></html>"
      ],
      "text/latex": [
       "\\begin{math}\n",
       "\\newcommand{\\Bold}[1]{\\mathbf{#1}}0.0\n",
       "\\end{math}"
      ],
      "text/plain": [
       "0.0"
      ]
     },
     "metadata": {},
     "output_type": "display_data"
    }
   ],
   "source": [
    "show(find_root(f(x) == 0, -3.5,-1))\n",
    "show(find_root(f(x) == 0, 1, 3.5))\n",
    "show(find_root(f(x) == 0, -5.5, -3.5))\n",
    "show(find_root(f(x) == 0, -3.5, 5.5))\n",
    "show(find_root(f(x) == 0, -0.1, 0.1))"
   ]
  },
  {
   "cell_type": "markdown",
   "metadata": {},
   "source": [
    "### Промежутки знакопостоянства"
   ]
  },
  {
   "cell_type": "markdown",
   "metadata": {},
   "source": [
    "Рассмотрим сначала неравенство $ f(x) > 0 $"
   ]
  },
  {
   "cell_type": "code",
   "execution_count": 12,
   "metadata": {},
   "outputs": [
    {
     "data": {
      "text/plain": [
       "[[2 < x, sin(1/6*pi*x^2) > 0],\n",
       " [-1 < x, x < 1, sin(1/6*pi*x^2) > 0],\n",
       " [x < -2, sin(1/6*pi*x^2) > 0],\n",
       " [1 < x, x < 2, -sin(1/6*pi*x^2) > 0],\n",
       " [-2 < x, x < -1, -sin(1/6*pi*x^2) > 0]]"
      ]
     },
     "execution_count": 12,
     "metadata": {},
     "output_type": "execute_result"
    }
   ],
   "source": [
    "solve(f(x) > 0, x )"
   ]
  },
  {
   "cell_type": "code",
   "execution_count": 13,
   "metadata": {},
   "outputs": [
    {
     "name": "stdout",
     "output_type": "stream",
     "text": [
      "Где sin(1/6*pi*x^2) > 0, если x ∈ (-k*sqrt(6); k*sqrt(6))\n"
     ]
    }
   ],
   "source": [
    "print(\"Где sin(1/6*pi*x^2) > 0, если x ∈ (-k*sqrt(6); k*sqrt(6))\")"
   ]
  },
  {
   "cell_type": "markdown",
   "metadata": {},
   "source": [
    "Рассмотрим f(x) < 0"
   ]
  },
  {
   "cell_type": "code",
   "execution_count": 14,
   "metadata": {},
   "outputs": [
    {
     "data": {
      "text/plain": [
       "[[1 < x, x < 2, sin(1/6*pi*x^2) > 0],\n",
       " [-2 < x, x < -1, sin(1/6*pi*x^2) > 0],\n",
       " [2 < x, -sin(1/6*pi*x^2) > 0],\n",
       " [-1 < x, x < 1, -sin(1/6*pi*x^2) > 0],\n",
       " [x < -2, -sin(1/6*pi*x^2) > 0]]"
      ]
     },
     "execution_count": 14,
     "metadata": {},
     "output_type": "execute_result"
    }
   ],
   "source": [
    "solve(f(x) < 0, x)"
   ]
  },
  {
   "cell_type": "code",
   "execution_count": 15,
   "metadata": {},
   "outputs": [
    {
     "name": "stdout",
     "output_type": "stream",
     "text": [
      "Где sin(1/6*pi*x^2) < 0, если x ∈ (-∞; -k*sqrt(6))⋃(k*sqrt(6); +∞)\n"
     ]
    }
   ],
   "source": [
    "print(\"Где sin(1/6*pi*x^2) < 0, если x ∈ (-∞; -k*sqrt(6))⋃(k*sqrt(6); +∞)\")"
   ]
  },
  {
   "cell_type": "code",
   "execution_count": 16,
   "metadata": {},
   "outputs": [
    {
     "data": {
      "image/png": "[encoded data removed]",
      "text/plain": [
       "Graphics object consisting of 17 graphics primitives"
      ]
     },
     "metadata": {},
     "output_type": "display_data"
    }
   ],
   "source": [
    "intervals = plot(0, xmin=-3, xmax=3, ymin=-0.5, ymax=0.5)\n",
    "intervals += point((0, 0), color=\"red\", size=30, zorder=10)\n",
    "intervals += point((2, 0), color=\"red\", size=30, zorder=10)\n",
    "intervals += point((-2, 0), color=\"red\", size=30, zorder=10)\n",
    "intervals += point((2.45, 0), color=\"red\", size=30, zorder=10)\n",
    "intervals += point((-2.45, 0), color=\"red\", size=30, zorder=10)\n",
    "intervals += text(\"$0$\", (0, 0.05), color=\"black\", fontsize=14)\n",
    "intervals += text(\"$2$\", (2, 0.05), color=\"black\", fontsize=14)\n",
    "intervals += text(\"$-2$\", (-2, 0.05), color=\"black\", fontsize=14)\n",
    "intervals += text(\"$2.45$\", (2.45, 0.05), color=\"black\", fontsize=14)\n",
    "intervals += text(\"$-2.45$\", (-2.45, 0.05), color=\"black\", fontsize=14)\n",
    "intervals += text(\"+\", (1 , 0.05), color=\"black\", fontsize=14)\n",
    "intervals += text(\"+\", (-1 , 0.05), color=\"black\", fontsize=14)\n",
    "intervals += text(\"+\", (2.23 , -0.05), color=\"black\", fontsize=14)\n",
    "intervals += text(\"+\", (-2.23 , -0.05), color=\"black\", fontsize=14)\n",
    "intervals += text(\"-\", (2.7 , -0.05), color=\"black\", fontsize=14)\n",
    "intervals += text(\"-\", (-2.7 , -0.05), color=\"black\", fontsize=14)\n",
    "intervals.show(axes=False)"
   ]
  },
  {
   "cell_type": "markdown",
   "metadata": {},
   "source": [
    "### Промежутки возрастания и убывания"
   ]
  },
  {
   "cell_type": "markdown",
   "metadata": {},
   "source": [
    "Найдем промежутки возрастания и убывания. "
   ]
  },
  {
   "cell_type": "code",
   "execution_count": 17,
   "metadata": {},
   "outputs": [
    {
     "data": {
      "text/html": [
       "<html><script type=\"math/tex; mode=display\">\\newcommand{\\Bold}[1]{\\mathbf{#1}}x \\ {\\mapsto}\\ \\frac{\\pi {\\left(x^{2} - 4\\right)} x \\cos\\left(\\frac{1}{6} \\, \\pi x^{2}\\right)}{3 \\, {\\left(x^{2} - 1\\right)}} + \\frac{2 \\, x \\sin\\left(\\frac{1}{6} \\, \\pi x^{2}\\right)}{x^{2} - 1} - \\frac{2 \\, {\\left(x^{2} - 4\\right)} x \\sin\\left(\\frac{1}{6} \\, \\pi x^{2}\\right)}{{\\left(x^{2} - 1\\right)}^{2}}</script></html>"
      ],
      "text/latex": [
       "\\begin{math}\n",
       "\\newcommand{\\Bold}[1]{\\mathbf{#1}}x \\ {\\mapsto}\\ \\frac{\\pi {\\left(x^{2} - 4\\right)} x \\cos\\left(\\frac{1}{6} \\, \\pi x^{2}\\right)}{3 \\, {\\left(x^{2} - 1\\right)}} + \\frac{2 \\, x \\sin\\left(\\frac{1}{6} \\, \\pi x^{2}\\right)}{x^{2} - 1} - \\frac{2 \\, {\\left(x^{2} - 4\\right)} x \\sin\\left(\\frac{1}{6} \\, \\pi x^{2}\\right)}{{\\left(x^{2} - 1\\right)}^{2}}\n",
       "\\end{math}"
      ],
      "text/plain": [
       "x |--> 1/3*pi*(x^2 - 4)*x*cos(1/6*pi*x^2)/(x^2 - 1) + 2*x*sin(1/6*pi*x^2)/(x^2 - 1) - 2*(x^2 - 4)*x*sin(1/6*pi*x^2)/(x^2 - 1)^2"
      ]
     },
     "metadata": {},
     "output_type": "display_data"
    }
   ],
   "source": [
    "d = diff(f,x)\n",
    "d.show()"
   ]
  },
  {
   "cell_type": "code",
   "execution_count": 18,
   "metadata": {},
   "outputs": [
    {
     "data": {
      "text/plain": [
       "[[0 < x,\n",
       "  pi*x^4*cos(1/6*pi*x^2) - 5*pi*x^2*cos(1/6*pi*x^2) + 4*pi*cos(1/6*pi*x^2) + 18*sin(1/6*pi*x^2) > 0],\n",
       " [x < 0,\n",
       "  -pi*x^4*cos(1/6*pi*x^2) + 5*pi*x^2*cos(1/6*pi*x^2) - 4*pi*cos(1/6*pi*x^2) - 18*sin(1/6*pi*x^2) > 0]]"
      ]
     },
     "execution_count": 18,
     "metadata": {},
     "output_type": "execute_result"
    }
   ],
   "source": [
    "solve(d > 0, x)"
   ]
  },
  {
   "cell_type": "markdown",
   "metadata": {},
   "source": [
    "Результат не очевиден на первый взгляд. Рассмотрим график, попробуем найти точки экстремума с помощью него."
   ]
  },
  {
   "cell_type": "code",
   "execution_count": 19,
   "metadata": {
    "scrolled": true
   },
   "outputs": [
    {
     "data": {
      "image/png": "[encoded data removed]",
      "text/plain": [
       "Graphics object consisting of 1 graphics primitive"
      ]
     },
     "metadata": {},
     "output_type": "display_data"
    }
   ],
   "source": [
    "graphics_diff = plot(d, xmin=-5, xmax=5, ymin=-5, ymax=5)\n",
    "graphics_diff.show()"
   ]
  },
  {
   "cell_type": "markdown",
   "metadata": {},
   "source": [
    "Точек  экстремума много, возьмем несколько при $x > 0$."
   ]
  },
  {
   "cell_type": "code",
   "execution_count": 20,
   "metadata": {},
   "outputs": [
    {
     "data": {
      "text/html": [
       "<html><script type=\"math/tex; mode=display\">\\newcommand{\\Bold}[1]{\\mathbf{#1}}2.218847215136172</script></html>"
      ],
      "text/latex": [
       "\\begin{math}\n",
       "\\newcommand{\\Bold}[1]{\\mathbf{#1}}2.218847215136172\n",
       "\\end{math}"
      ],
      "text/plain": [
       "2.218847215136172"
      ]
     },
     "metadata": {},
     "output_type": "display_data"
    },
    {
     "data": {
      "text/html": [
       "<html><script type=\"math/tex; mode=display\">\\newcommand{\\Bold}[1]{\\mathbf{#1}}3.0415623282664055</script></html>"
      ],
      "text/latex": [
       "\\begin{math}\n",
       "\\newcommand{\\Bold}[1]{\\mathbf{#1}}3.0415623282664055\n",
       "\\end{math}"
      ],
      "text/plain": [
       "3.0415623282664055"
      ]
     },
     "metadata": {},
     "output_type": "display_data"
    }
   ],
   "source": [
    "d1 = find_root(d == 0, 1, 2.5)\n",
    "d2 = find_root(d == 0, 2.6, 3.6) \n",
    "show(d1)\n",
    "show(d2)"
   ]
  },
  {
   "cell_type": "markdown",
   "metadata": {},
   "source": [
    "Определим знаки производных на интервалах"
   ]
  },
  {
   "cell_type": "code",
   "execution_count": 21,
   "metadata": {},
   "outputs": [
    {
     "data": {
      "text/html": [
       "<html><script type=\"math/tex; mode=display\">\\newcommand{\\Bold}[1]{\\mathbf{#1}}0.173338486221252 \\, \\pi \\cos\\left(0.819807711614545 \\, \\pi\\right) + 0.866495718194071 \\, \\sin\\left(0.819807711614545 \\, \\pi\\right)</script></html>"
      ],
      "text/latex": [
       "\\begin{math}\n",
       "\\newcommand{\\Bold}[1]{\\mathbf{#1}}0.173338486221252 \\, \\pi \\cos\\left(0.819807711614545 \\, \\pi\\right) + 0.866495718194071 \\, \\sin\\left(0.819807711614545 \\, \\pi\\right)\n",
       "\\end{math}"
      ],
      "text/plain": [
       "0.173338486221252*pi*cos(0.819807711614545*pi) + 0.866495718194071*sin(0.819807711614545*pi)"
      ]
     },
     "metadata": {},
     "output_type": "display_data"
    },
    {
     "name": "stdout",
     "output_type": "stream",
     "text": [
      "+\n"
     ]
    },
    {
     "data": {
      "text/html": [
       "<html><script type=\"math/tex; mode=display\">\\newcommand{\\Bold}[1]{\\mathbf{#1}}0.645712940107290 \\, \\pi \\cos\\left(1.54286425356431 \\, \\pi\\right) + 0.267748255160676 \\, \\sin\\left(1.54286425356431 \\, \\pi\\right)</script></html>"
      ],
      "text/latex": [
       "\\begin{math}\n",
       "\\newcommand{\\Bold}[1]{\\mathbf{#1}}0.645712940107290 \\, \\pi \\cos\\left(1.54286425356431 \\, \\pi\\right) + 0.267748255160676 \\, \\sin\\left(1.54286425356431 \\, \\pi\\right)\n",
       "\\end{math}"
      ],
      "text/plain": [
       "0.645712940107290*pi*cos(1.54286425356431*pi) + 0.267748255160676*sin(1.54286425356431*pi)"
      ]
     },
     "metadata": {},
     "output_type": "display_data"
    },
    {
     "name": "stdout",
     "output_type": "stream",
     "text": [
      "-\n"
     ]
    }
   ],
   "source": [
    "d(d1-0.001).show()\n",
    "if(d(d1-0.001)<0):\n",
    "    print(\"-\")\n",
    "else:\n",
    "    print(\"+\")\n",
    "d(d2+0.001).show()\n",
    "if(d(d1+0.001)<0):\n",
    "    print(\"-\")\n",
    "else:\n",
    "    print(\"+\")"
   ]
  },
  {
   "cell_type": "code",
   "execution_count": 22,
   "metadata": {},
   "outputs": [
    {
     "data": {
      "text/html": [
       "<html><script type=\"math/tex; mode=display\">\\newcommand{\\Bold}[1]{\\mathbf{#1}}0.644745127672155 \\, \\pi \\cos\\left(1.54083654534547 \\, \\pi\\right) + 0.268362488611092 \\, \\sin\\left(1.54083654534547 \\, \\pi\\right)</script></html>"
      ],
      "text/latex": [
       "\\begin{math}\n",
       "\\newcommand{\\Bold}[1]{\\mathbf{#1}}0.644745127672155 \\, \\pi \\cos\\left(1.54083654534547 \\, \\pi\\right) + 0.268362488611092 \\, \\sin\\left(1.54083654534547 \\, \\pi\\right)\n",
       "\\end{math}"
      ],
      "text/plain": [
       "0.644745127672155*pi*cos(1.54083654534547*pi) + 0.268362488611092*sin(1.54083654534547*pi)"
      ]
     },
     "metadata": {},
     "output_type": "display_data"
    },
    {
     "name": "stdout",
     "output_type": "stream",
     "text": [
      "-\n"
     ]
    },
    {
     "data": {
      "text/html": [
       "<html><script type=\"math/tex; mode=display\">\\newcommand{\\Bold}[1]{\\mathbf{#1}}0.645712940107290 \\, \\pi \\cos\\left(1.54286425356431 \\, \\pi\\right) + 0.267748255160676 \\, \\sin\\left(1.54286425356431 \\, \\pi\\right)</script></html>"
      ],
      "text/latex": [
       "\\begin{math}\n",
       "\\newcommand{\\Bold}[1]{\\mathbf{#1}}0.645712940107290 \\, \\pi \\cos\\left(1.54286425356431 \\, \\pi\\right) + 0.267748255160676 \\, \\sin\\left(1.54286425356431 \\, \\pi\\right)\n",
       "\\end{math}"
      ],
      "text/plain": [
       "0.645712940107290*pi*cos(1.54286425356431*pi) + 0.267748255160676*sin(1.54286425356431*pi)"
      ]
     },
     "metadata": {},
     "output_type": "display_data"
    },
    {
     "name": "stdout",
     "output_type": "stream",
     "text": [
      "+\n"
     ]
    }
   ],
   "source": [
    "d(d2-0.001).show()\n",
    "if(d(d2-0.001)<0):\n",
    "    print(\"-\")\n",
    "else:\n",
    "    print(\"+\")\n",
    "d(d2+0.001).show()\n",
    "if(d(d2+0.001)<0):\n",
    "    print(\"-\")\n",
    "else:\n",
    "    print(\"+\")"
   ]
  },
  {
   "cell_type": "markdown",
   "metadata": {},
   "source": [
    "Видим, что до 2.2188... функция возрастает, затем убывает до точки 3.0415 и возрастает после неё"
   ]
  },
  {
   "cell_type": "code",
   "execution_count": 23,
   "metadata": {},
   "outputs": [
    {
     "data": {
      "image/png": "[encoded data removed]",
      "text/plain": [
       "Graphics object consisting of 9 graphics primitives"
      ]
     },
     "metadata": {},
     "output_type": "display_data"
    }
   ],
   "source": [
    "intervals = plot(0, xmin=-0.1, xmax=0.1, ymin=-0.5, ymax=0.5)\n",
    "intervals += point((0, 0), color=\"red\", size=30, zorder=10)\n",
    "intervals += point((-0.1, 0), color=\"red\", size=30, zorder=10)\n",
    "intervals += point((0.1, 0), color=\"red\", size=30, zorder=10)\n",
    "intervals += text(\"$2.2188$\", (0, 0.05), color=\"black\", fontsize=14)\n",
    "intervals += text(\"$0$\", (-0.1, 0.05), color=\"black\", fontsize=14)\n",
    "intervals += text(\"$3.0415$\", (0.1, 0.05), color=\"black\", fontsize=14)\n",
    "intervals += text(\"g'(x) < 0\", (0.05 , 0.05), color=\"black\", fontsize=12)\n",
    "intervals += text(\"g'(x) > 0\", (-0.05 , 0.05), color=\"black\", fontsize=12)\n",
    "intervals.show(axes=False)"
   ]
  },
  {
   "cell_type": "markdown",
   "metadata": {},
   "source": [
    "### Точки экстремума и значения в этих точках"
   ]
  },
  {
   "cell_type": "markdown",
   "metadata": {},
   "source": [
    "Посмотрим другие экстремумы функции."
   ]
  },
  {
   "cell_type": "code",
   "execution_count": 24,
   "metadata": {},
   "outputs": [
    {
     "data": {
      "text/html": [
       "<html><script type=\"math/tex; mode=display\">\\newcommand{\\Bold}[1]{\\mathbf{#1}}3.882038336139626</script></html>"
      ],
      "text/latex": [
       "\\begin{math}\n",
       "\\newcommand{\\Bold}[1]{\\mathbf{#1}}3.882038336139626\n",
       "\\end{math}"
      ],
      "text/plain": [
       "3.882038336139626"
      ]
     },
     "metadata": {},
     "output_type": "display_data"
    },
    {
     "data": {
      "text/html": [
       "<html><script type=\"math/tex; mode=display\">\\newcommand{\\Bold}[1]{\\mathbf{#1}}4.586073411467745</script></html>"
      ],
      "text/latex": [
       "\\begin{math}\n",
       "\\newcommand{\\Bold}[1]{\\mathbf{#1}}4.586073411467745\n",
       "\\end{math}"
      ],
      "text/plain": [
       "4.586073411467745"
      ]
     },
     "metadata": {},
     "output_type": "display_data"
    }
   ],
   "source": [
    "d3 = find_root(d == 0, 3.7, 4)\n",
    "d4 = find_root(d == 0, 4, 5) \n",
    "show(d3)\n",
    "show(d4)"
   ]
  },
  {
   "cell_type": "markdown",
   "metadata": {},
   "source": [
    "Проверим, что это экстремумы"
   ]
  },
  {
   "cell_type": "code",
   "execution_count": 25,
   "metadata": {},
   "outputs": [
    {
     "data": {
      "text/html": [
       "<html><script type=\"math/tex; mode=display\">\\newcommand{\\Bold}[1]{\\mathbf{#1}}1.01769368387430 \\, \\pi \\cos\\left(2.51040976109757 \\, \\pi\\right) + 0.117754271857422 \\, \\sin\\left(2.51040976109757 \\, \\pi\\right)</script></html>"
      ],
      "text/latex": [
       "\\begin{math}\n",
       "\\newcommand{\\Bold}[1]{\\mathbf{#1}}1.01769368387430 \\, \\pi \\cos\\left(2.51040976109757 \\, \\pi\\right) + 0.117754271857422 \\, \\sin\\left(2.51040976109757 \\, \\pi\\right)\n",
       "\\end{math}"
      ],
      "text/plain": [
       "1.01769368387430*pi*cos(2.51040976109757*pi) + 0.117754271857422*sin(2.51040976109757*pi)"
      ]
     },
     "metadata": {},
     "output_type": "display_data"
    },
    {
     "name": "stdout",
     "output_type": "stream",
     "text": [
      "+\n"
     ]
    },
    {
     "data": {
      "text/html": [
       "<html><script type=\"math/tex; mode=display\">\\newcommand{\\Bold}[1]{\\mathbf{#1}}1.01852269969437 \\, \\pi \\cos\\left(2.51299778665500 \\, \\pi\\right) + 0.117555195003142 \\, \\sin\\left(2.51299778665500 \\, \\pi\\right)</script></html>"
      ],
      "text/latex": [
       "\\begin{math}\n",
       "\\newcommand{\\Bold}[1]{\\mathbf{#1}}1.01852269969437 \\, \\pi \\cos\\left(2.51299778665500 \\, \\pi\\right) + 0.117555195003142 \\, \\sin\\left(2.51299778665500 \\, \\pi\\right)\n",
       "\\end{math}"
      ],
      "text/plain": [
       "1.01852269969437*pi*cos(2.51299778665500*pi) + 0.117555195003142*sin(2.51299778665500*pi)"
      ]
     },
     "metadata": {},
     "output_type": "display_data"
    },
    {
     "name": "stdout",
     "output_type": "stream",
     "text": [
      "-\n"
     ]
    }
   ],
   "source": [
    "d(d3-0.001).show()\n",
    "if(d(d3-0.001)<0):\n",
    "    print(\"-\")\n",
    "else:\n",
    "    print(\"+\")\n",
    "d(d3+0.001).show()\n",
    "if(d(d3+0.001)<0):\n",
    "    print(\"-\")\n",
    "else:\n",
    "    print(\"+\")"
   ]
  },
  {
   "cell_type": "code",
   "execution_count": 26,
   "metadata": {},
   "outputs": [
    {
     "data": {
      "text/html": [
       "<html><script type=\"math/tex; mode=display\">\\newcommand{\\Bold}[1]{\\mathbf{#1}}1.29936630777182 \\, \\pi \\cos\\left(3.50381636475808 \\, \\pi\\right) + 0.0686188864052830 \\, \\sin\\left(3.50381636475808 \\, \\pi\\right)</script></html>"
      ],
      "text/latex": [
       "\\begin{math}\n",
       "\\newcommand{\\Bold}[1]{\\mathbf{#1}}1.29936630777182 \\, \\pi \\cos\\left(3.50381636475808 \\, \\pi\\right) + 0.0686188864052830 \\, \\sin\\left(3.50381636475808 \\, \\pi\\right)\n",
       "\\end{math}"
      ],
      "text/plain": [
       "1.29936630777182*pi*cos(3.50381636475808*pi) + 0.0686188864052830*sin(3.50381636475808*pi)"
      ]
     },
     "metadata": {},
     "output_type": "display_data"
    },
    {
     "name": "stdout",
     "output_type": "stream",
     "text": [
      "-\n"
     ]
    },
    {
     "data": {
      "text/html": [
       "<html><script type=\"math/tex; mode=display\">\\newcommand{\\Bold}[1]{\\mathbf{#1}}1.30014278236322 \\, \\pi \\cos\\left(3.50687374703239 \\, \\pi\\right) + 0.0685232030886448 \\, \\sin\\left(3.50687374703239 \\, \\pi\\right)</script></html>"
      ],
      "text/latex": [
       "\\begin{math}\n",
       "\\newcommand{\\Bold}[1]{\\mathbf{#1}}1.30014278236322 \\, \\pi \\cos\\left(3.50687374703239 \\, \\pi\\right) + 0.0685232030886448 \\, \\sin\\left(3.50687374703239 \\, \\pi\\right)\n",
       "\\end{math}"
      ],
      "text/plain": [
       "1.30014278236322*pi*cos(3.50687374703239*pi) + 0.0685232030886448*sin(3.50687374703239*pi)"
      ]
     },
     "metadata": {},
     "output_type": "display_data"
    },
    {
     "name": "stdout",
     "output_type": "stream",
     "text": [
      "+\n"
     ]
    }
   ],
   "source": [
    "d(d4-0.001).show()\n",
    "if(d(d4-0.001)<0):\n",
    "    print(\"-\")\n",
    "else:\n",
    "    print(\"+\")\n",
    "d(d4+0.001).show()\n",
    "if(d(d4+0.001)<0):\n",
    "    print(\"-\")\n",
    "else:\n",
    "    print(\"+\")"
   ]
  },
  {
   "cell_type": "markdown",
   "metadata": {},
   "source": [
    "Знаки в окрестностях точек отличаются, значит, это экстремумы"
   ]
  },
  {
   "cell_type": "markdown",
   "metadata": {},
   "source": [
    "### Непрерывность. Наличие точек разрыва и их классификация"
   ]
  },
  {
   "cell_type": "markdown",
   "metadata": {},
   "source": [
    "На области определения функция непрерывна. Рассмотрим точки $x=-1$ и $x=1$\n",
    "\n",
    "Сначала проверим в точке $x=-1$"
   ]
  },
  {
   "cell_type": "code",
   "execution_count": 27,
   "metadata": {},
   "outputs": [
    {
     "data": {
      "text/html": [
       "<html><script type=\"math/tex; mode=display\">\\newcommand{\\Bold}[1]{\\mathbf{#1}}\\infty</script></html>"
      ],
      "text/latex": [
       "\\begin{math}\n",
       "\\newcommand{\\Bold}[1]{\\mathbf{#1}}\\infty\n",
       "\\end{math}"
      ],
      "text/plain": [
       "Infinity"
      ]
     },
     "metadata": {},
     "output_type": "display_data"
    },
    {
     "data": {
      "text/html": [
       "<html><script type=\"math/tex; mode=display\">\\newcommand{\\Bold}[1]{\\mathbf{#1}}\\infty</script></html>"
      ],
      "text/latex": [
       "\\begin{math}\n",
       "\\newcommand{\\Bold}[1]{\\mathbf{#1}}\\infty\n",
       "\\end{math}"
      ],
      "text/plain": [
       "Infinity"
      ]
     },
     "metadata": {},
     "output_type": "display_data"
    }
   ],
   "source": [
    "limit(f(x), x = --1).show()\n",
    "limit(f(x), x = +-1).show()"
   ]
  },
  {
   "cell_type": "markdown",
   "metadata": {},
   "source": [
    "Т.е. неустранимый разрыв 2-ого рода"
   ]
  },
  {
   "cell_type": "markdown",
   "metadata": {},
   "source": [
    "Проверяем $x=1$"
   ]
  },
  {
   "cell_type": "code",
   "execution_count": 28,
   "metadata": {},
   "outputs": [
    {
     "data": {
      "text/html": [
       "<html><script type=\"math/tex; mode=display\">\\newcommand{\\Bold}[1]{\\mathbf{#1}}\\infty</script></html>"
      ],
      "text/latex": [
       "\\begin{math}\n",
       "\\newcommand{\\Bold}[1]{\\mathbf{#1}}\\infty\n",
       "\\end{math}"
      ],
      "text/plain": [
       "Infinity"
      ]
     },
     "metadata": {},
     "output_type": "display_data"
    },
    {
     "data": {
      "text/html": [
       "<html><script type=\"math/tex; mode=display\">\\newcommand{\\Bold}[1]{\\mathbf{#1}}\\infty</script></html>"
      ],
      "text/latex": [
       "\\begin{math}\n",
       "\\newcommand{\\Bold}[1]{\\mathbf{#1}}\\infty\n",
       "\\end{math}"
      ],
      "text/plain": [
       "Infinity"
      ]
     },
     "metadata": {},
     "output_type": "display_data"
    }
   ],
   "source": [
    "limit(f(x), x = -1).show()\n",
    "limit(f(x), x = +1).show()"
   ]
  },
  {
   "cell_type": "markdown",
   "metadata": {},
   "source": [
    "И это тоже неустранимый разрыв 2-ого рода"
   ]
  },
  {
   "cell_type": "markdown",
   "metadata": {},
   "source": [
    "### Асимптоты"
   ]
  },
  {
   "cell_type": "markdown",
   "metadata": {},
   "source": [
    "Найдем асимптоты."
   ]
  },
  {
   "cell_type": "code",
   "execution_count": 29,
   "metadata": {},
   "outputs": [
    {
     "data": {
      "text/html": [
       "<html><script type=\"math/tex; mode=display\">\\newcommand{\\Bold}[1]{\\mathbf{#1}}\\infty</script></html>"
      ],
      "text/latex": [
       "\\begin{math}\n",
       "\\newcommand{\\Bold}[1]{\\mathbf{#1}}\\infty\n",
       "\\end{math}"
      ],
      "text/plain": [
       "Infinity"
      ]
     },
     "metadata": {},
     "output_type": "display_data"
    }
   ],
   "source": [
    "limit(f(x)/x, x=-1).show()"
   ]
  },
  {
   "cell_type": "code",
   "execution_count": 30,
   "metadata": {},
   "outputs": [
    {
     "data": {
      "text/html": [
       "<html><script type=\"math/tex; mode=display\">\\newcommand{\\Bold}[1]{\\mathbf{#1}}\\infty</script></html>"
      ],
      "text/latex": [
       "\\begin{math}\n",
       "\\newcommand{\\Bold}[1]{\\mathbf{#1}}\\infty\n",
       "\\end{math}"
      ],
      "text/plain": [
       "Infinity"
      ]
     },
     "metadata": {},
     "output_type": "display_data"
    }
   ],
   "source": [
    "limit(f(x)/x, x=1).show()"
   ]
  },
  {
   "cell_type": "code",
   "execution_count": 31,
   "metadata": {},
   "outputs": [
    {
     "data": {
      "text/html": [
       "<html><script type=\"math/tex; mode=display\">\\newcommand{\\Bold}[1]{\\mathbf{#1}}0</script></html>"
      ],
      "text/latex": [
       "\\begin{math}\n",
       "\\newcommand{\\Bold}[1]{\\mathbf{#1}}0\n",
       "\\end{math}"
      ],
      "text/plain": [
       "0"
      ]
     },
     "metadata": {},
     "output_type": "display_data"
    }
   ],
   "source": [
    "limit(f(x)/x, x=infinity).show()"
   ]
  },
  {
   "cell_type": "code",
   "execution_count": 32,
   "metadata": {},
   "outputs": [
    {
     "data": {
      "text/html": [
       "<html><script type=\"math/tex; mode=display\">\\newcommand{\\Bold}[1]{\\mathbf{#1}}\\mathit{ind}</script></html>"
      ],
      "text/latex": [
       "\\begin{math}\n",
       "\\newcommand{\\Bold}[1]{\\mathbf{#1}}\\mathit{ind}\n",
       "\\end{math}"
      ],
      "text/plain": [
       "ind"
      ]
     },
     "metadata": {},
     "output_type": "display_data"
    }
   ],
   "source": [
    "limit(f(x), x=infinity).show()"
   ]
  },
  {
   "cell_type": "markdown",
   "metadata": {},
   "source": [
    "Наклонных асимптот нет\n",
    "Получается, функция имеет две вертикальные асимптоты $x=-1$ и $x=1$\n",
    "\n",
    "Построим график с асимптотами:"
   ]
  },
  {
   "cell_type": "code",
   "execution_count": 33,
   "metadata": {
    "scrolled": false
   },
   "outputs": [
    {
     "data": {
      "image/png": "[encoded data removed]",
      "text/plain": [
       "Graphics object consisting of 7 graphics primitives"
      ]
     },
     "metadata": {},
     "output_type": "display_data"
    }
   ],
   "source": [
    "graphics = plot(f, xmin=-5, xmax=5, ymin=-10, ymax=10, detect_poles='show')\n",
    "graphics  += point((0, 0), color=\"red\", size=30, zorder=10)\n",
    "graphics.show()"
   ]
  },
  {
   "cell_type": "code",
   "execution_count": null,
   "metadata": {},
   "outputs": [],
   "source": []
  }
 ],
 "metadata": {
  "kernelspec": {
   "display_name": "SageMath 9.2",
   "language": "sage",
   "name": "sagemath"
  },
  "language_info": {
   "codemirror_mode": {
    "name": "ipython",
    "version": 3
   },
   "file_extension": ".py",
   "mimetype": "text/x-python",
   "name": "python",
   "nbconvert_exporter": "python",
   "pygments_lexer": "ipython3",
   "version": "3.7.7"
  }
 },
 "nbformat": 4,
 "nbformat_minor": 2
}
