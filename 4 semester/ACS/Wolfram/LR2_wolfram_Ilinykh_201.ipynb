{
 "cells": [
  {
   "cell_type": "markdown",
   "id": "d4cdec79",
   "metadata": {},
   "source": [
    "# Лабораторная работа №2 по Wolfram\n",
    "\n",
    "## НОД и расширенный алгоритм Евклида"
   ]
  },
  {
   "cell_type": "markdown",
   "id": "1029faeb",
   "metadata": {},
   "source": [
    "### Ильиных В.М. М8О-201Б-19"
   ]
  },
  {
   "cell_type": "markdown",
   "id": "cbd57d50",
   "metadata": {},
   "source": [
    "### Вариант 4"
   ]
  },
  {
   "cell_type": "code",
   "execution_count": 1,
   "id": "9ba262c6",
   "metadata": {},
   "outputs": [],
   "source": [
    "f = 5*x^5 - 21*x^4 + 23*x^3 - 37*x^2 + 77*x - 7;\n",
    "g = 10*x^4 - 42*x^3 + 56*x^2 - 26*x + 2;"
   ]
  },
  {
   "cell_type": "code",
   "execution_count": 3,
   "id": "8f6baab1",
   "metadata": {},
   "outputs": [],
   "source": [
    "myBezoutPoly[aa_, bb_]:=Module[\n",
    "            {a=aa, b=bb\n",
    "                , x0=1\n",
    "                , xx=0\n",
    "                , y0=0\n",
    "                , yy = 1\n",
    "                , q, r\n",
    "            }\n",
    "            ,\n",
    "            While[\n",
    "                Not[SameQ[b, 0]]\n",
    "                ,\n",
    "                    q = PolynomialQuotient[a, b,x];\n",
    "                    r = PolynomialRemainder[a, b,x];\n",
    "                    {a, b} = {b, r};\n",
    "                    {x0, xx} = {xx, (x0 - xx*q)//ExpandAll};\n",
    "                    {y0, yy} = {yy, (y0 - yy*q)//ExpandAll};\n",
    "\n",
    "            ];\n",
    "            {x0, y0, a}\n",
    "        ];"
   ]
  },
  {
   "cell_type": "code",
   "execution_count": 4,
   "id": "40507abe",
   "metadata": {},
   "outputs": [],
   "source": [
    "lastCoef[poly_, x_] := Coefficient[\n",
    "            poly\n",
    "            , x\n",
    "            , Exponent[poly, x]\n",
    "        ]"
   ]
  },
  {
   "cell_type": "markdown",
   "id": "76715184",
   "metadata": {},
   "source": [
    "НОД полиномов f и g, полученный от стандартного метода Wolfram "
   ]
  },
  {
   "cell_type": "code",
   "execution_count": 5,
   "id": "7c789a8a",
   "metadata": {},
   "outputs": [
    {
     "data": {
      "text/html": [
       "<div><img alt=\"Output\" src=\"data:image/png;base64,iVBORw0KGgoAAAANSUhEUgAAAIUAAAAZCAIAAACQHHpTAAAAz3pUWHRSYXcgcHJvZmlsZSB0eXBlIGV4aWYAAHjabU/RbUQhDPtnihshJMGBcXh3nNQNOv6ZB2pF1UjEjuMESOP7650eMzRL8hIVDRCGN2/aSaqsWJil3XlJZffyqafctt4pld8GxtavUw8s1PpnkegiNm8gN98De5Hp0nNf9bX92ms9F5kcEfXn6f/WbqEoyOHMrhKBRl4TKQFFpQTeeAI0ZrxU/EkciOAYYjqsz8EZOuJ0jwSj8JpfsHmydaIzq/E+1kZurO6sF7t2e+Z3PiVvWpYA56EUAAAACXBIWXMAABJ0AAASdAHeZh94AAAAPHRFWHRTb2Z0d2FyZQBDcmVhdGVkIHdpdGggdGhlIFdvbGZyYW0gTGFuZ3VhZ2UgOiB3d3cud29sZnJhbS5jb21coqaFAAAAIXRFWHRDcmVhdGlvbiBUaW1lADIwMjE6MDQ6MjQgMTM6MzI6MzKPgVKOAAACtklEQVRoge2ZMXLqMBCGfzPvKDZFxieQTmDTUNHSSaXdpKNMl8YucZeWyg3WCdAJGAqku+gVgTwHsJUYAX6Mv4qBZf2vFml3hWeMgVsE9+ICAEimNonv2PuTM3LsT+e0nBpjjKmYTAMuHPt/dhznQ6vxxzICAESvGcF2r90+4Nn549adH0X/Xo9DhOPhvPoVrs+rGqIs2DSy2w3UqOdDcK8Oza85a3T+hmp503Rokeec0mahVoNH0SLMHFEZ+fYByZTpjMoIq7p//QdUjBBCWpRaDR5Fq7CvfKiMOJNdsXutQMUsy201cIHq4L5B2PG8Eu9puHAyLOicltPj3CH483e8Op+76+tHB5dvBYrYo5QLfc1ZK7gXpLKIjzUoxlDRf8UIAPR6JQEAUhZxEFBuqX9anFQjnXPqeZSLaHmy/25b0Z3RHNG9ldQOQVVl7FjTm4/cet1n1bc3blzCL+CkflwZkcpIh8gt9QPwfT9KlpuDGJnOGzaJn2yMMSpjAIpS6Hy+Wxy8/ieb4ZQ+RXQ+n/vJRoEGqVytddJY4f3kNVsVaRHPM7WJOvQBOufz1bbdJlxs7rcgP47oTLmUQEy39XGhs/KL9yV+smBpbFksfzIjqcRs0rEpG7+EocXkJejmuiM/jehMuZQg4bf3OitvuL8KXggs+ThIad1FLfhR0s/jzRrRqXKdb4vdYukmmob7K7WTxPI7EWvMGCB3yoWOPtCHiC7nQ5Rb1j4dinw/SZIpA4pSAIDWVw0uj6cfEY0ALbjnUS4OD9eC03L6cXH7Ce55NNc65/tJ4gPRQb4W/F35979a1/stALlbNy2c1eBRETUKM8ao6mvsAGFZ1dysf/bC9a75s41mLd+5EafXn2e9vNWgZnVVRL+dP1qFecb5/+cDV3DD/6MGOjDko18M+egXQz76xV/vepRV8ou2VAAAAABJRU5ErkJggg==\"></div>"
      ],
      "text/plain": [
       "FormBox[RowBox[{RowBox[{\"5\", \" \", SuperscriptBox[\"x\", \"2\"]}], \"-\", \n",
       "\n",
       " \n",
       ">        RowBox[{\"11\", \" \", \"x\"}], \"+\", \"1\"}], TraditionalForm]\n"
      ]
     },
     "execution_count": 6,
     "metadata": {
      "text/html": [],
      "text/plain": []
     },
     "output_type": "execute_result"
    }
   ],
   "source": [
    "wolfGcd = PolynomialGCD[f, g];\n",
    "wolfGcd // TraditionalForm"
   ]
  },
  {
   "cell_type": "markdown",
   "id": "c1a0b0e4",
   "metadata": {},
   "source": [
    "Нормализуем полином и получаем"
   ]
  },
  {
   "cell_type": "code",
   "execution_count": 7,
   "id": "1c656ffd",
   "metadata": {},
   "outputs": [
    {
     "data": {
      "text/html": [
       "<div><img alt=\"Output\" src=\"data:image/png;base64,iVBORw0KGgoAAAANSUhEUgAAAIIAAAA2CAIAAACEOtbJAAAAz3pUWHRSYXcgcHJvZmlsZSB0eXBlIGV4aWYAAHjabU9BDgMhCLz7ij4BAUGf425t0h/0+R1W08amkywMwwBrGq/nI90CnClp8WrNjABt2riDVJqYOVO74pR49fKuJ7Gld0jl27Cx9GPXffm5/iyidUHiArjoGliLhKee+6yP5ede675IaIPXz6//rVWcrVh2RVQmd2vgNYEiWWEqbg87zWDMdmfSE3mYO8bMwyE9BgM8fHePZALhHk+Q+LJ0ZEVkwT3UAi6oIiof6Mrliee8AR/GWpTLHQKZAAAACXBIWXMAABJ0AAASdAHeZh94AAAAPHRFWHRTb2Z0d2FyZQBDcmVhdGVkIHdpdGggdGhlIFdvbGZyYW0gTGFuZ3VhZ2UgOiB3d3cud29sZnJhbS5jb21coqaFAAAAIXRFWHRDcmVhdGlvbiBUaW1lADIwMjE6MDQ6MjQgMTM6MzI6MzRm4ve7AAADjUlEQVR4nO2brXLrMBCF13f6EHkAp6ATECyDTlmTkKLQMBk6pFMSUFDSKbFgzEqDQmqVFcVPkAmI9C66wPnPta3k1vbK9oc8zk58NGektXZlSykFDWXzp2wBCUjOmOs4lsPklQF40JB6U6QeXbjrvC0hiiIAMrwqAA+aUhVaQgoAxBfXB+AhSyrWRalmNDagoAY2SH6SICVzHctyXF6qrCNQpuhfRDKnPY4AACD64N60d3ADEVWfDba3UEoJnwJAMOeSjVaTTaKc9soWt6fqNsTY3rNPAIL+CD6nPbtsOefUwwYAezAkAGQ4QOgB1MeGmGj2hXPPXRcb+BcMKUC0EmUr+Sf1sIGz9cDznihAMOcAAFJKVNNCzwbuWjEFFtLkegkA0SpxGckM4K5lOUxK5q4Hng3Q2/ggufsh7CKTRKZUjZqS8AkN95WRzXWeCJ8cizytxmQGHEQd/hSXdmhYYBlKT2q2DSLcqxY+MaSWZhjZu2i7t9/m2Lcd6NzifOczmstSNJ8H9AnR5rMyXFJTkuwNwkXjQg7o2yDZaDVZeDlqqTG6ixJ3R/CJqRhWOLluNLRskMyZPy28ODVzF1OhvigkG7VzHHf2osRdqx8AgBVsbtCwOVLz22xnQ3KLqjc9ecet9dKUEzcAxrSoKswNQNyi8kAytz0Ogjl/Xr+tJkKV0B55eHgo8nE/Pz/5/fn39/f7+3tKwMvLy+PjY3x9kBts79mfBeOgP/LF4mIPJHNHs2V6TGeySF/R7u/vL3xsXpwNJ4oA+s7ysECUPpxWq5U+nFartbs+StH2YEjGEVzXorq963QyQu7aGQGvr69XPDkXzoYTRUA6R/fSh9Ptdrvdru7jjrLveU2yIUb4JM/a8tG+AXmLqsIc2IC+RVVh/uBpUdUaFC0q/OScGyzVfO2DgHqczECP6TbszowUfnLkAjRE5rbcFcHpsQeUOx4dkUYfrJdfM/CF8lC/z2mJNNkG/jHuTBRqD7RFljBLf4ftXCeEhgLhWqSU0hdprA0nKy6hBqSFZJHG2qCUUkoIEfp0O1SUCVpPpNk2bNnNfZxGxKSJrIYNypAafaJI07dvO2xvQsvWkEmiyMrYANC+I9lBZZMgskI2iFWE9hPDHQkiTd6+HcPnSzqZInchUWQZmer/ESE97ImIkCJskFwg0lAblAh3b+JAqI/OAqXUJSKbtg8KKpSiTaaxAQV/AVvG6aw4ffd9AAAAAElFTkSuQmCC\"></div>"
      ],
      "text/plain": [
       "FormBox[RowBox[{SuperscriptBox[\"x\", \"2\"], \"-\", \n",
       "\n",
       " \n",
       ">        FractionBox[RowBox[{\"11\", \" \", \"x\"}], \"5\"], \"+\", FractionBox[\"1\", \"5\"]}], \n",
       "\n",
       " \n",
       ">      TraditionalForm]\n"
      ]
     },
     "execution_count": 9,
     "metadata": {
      "text/html": [],
      "text/plain": []
     },
     "output_type": "execute_result"
    }
   ],
   "source": [
    "coef = lastCoef[wolfGcd, x];\n",
    "normWolfGcd = Simplify[wolfGcd / coef];\n",
    "normWolfGcd // TraditionalForm"
   ]
  },
  {
   "cell_type": "markdown",
   "id": "4d016571",
   "metadata": {},
   "source": [
    "Полученный НОД от собственного алгоритма"
   ]
  },
  {
   "cell_type": "code",
   "execution_count": 10,
   "id": "95d223d0",
   "metadata": {},
   "outputs": [
    {
     "data": {
      "text/html": [
       "<div><img alt=\"Output\" src=\"data:image/png;base64,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\"></div>"
      ],
      "text/plain": [
       "FormBox[RowBox[{RowBox[{\"640\", \" \", SuperscriptBox[\"x\", \"2\"]}], \"-\", \n",
       "\n",
       " \n",
       ">        RowBox[{\"1408\", \" \", \"x\"}], \"+\", \"128\"}], TraditionalForm]\n"
      ]
     },
     "execution_count": 11,
     "metadata": {
      "text/html": [],
      "text/plain": []
     },
     "output_type": "execute_result"
    }
   ],
   "source": [
    "{u, v, myGcd} = myBezoutPoly[f, g];\n",
    "myGcd // TraditionalForm"
   ]
  },
  {
   "cell_type": "markdown",
   "id": "78eb6ac2",
   "metadata": {},
   "source": [
    "Нормализуем полином и получаем"
   ]
  },
  {
   "cell_type": "code",
   "execution_count": 12,
   "id": "e68eeca1",
   "metadata": {},
   "outputs": [
    {
     "data": {
      "text/html": [
       "<div><img alt=\"Output\" src=\"data:image/png;base64,iVBORw0KGgoAAAANSUhEUgAAAIIAAAA2CAIAAACEOtbJAAAAz3pUWHRSYXcgcHJvZmlsZSB0eXBlIGV4aWYAAHjabU9RjkMhCPz3FHsEBRz0OL7WJr1Bj79DNbux6SQPhmGAZ5qv5yP9BKTkZNUbOpAJ69ZlkLS8sHLJ/R2XJLtXTj0ptj4o1f8G5tavU/ftl/axKO8LGhfI1fbAXqSy9DJWfW2/jNbORZoPePv79a+1qQsqihujSXZHJ2+JlAlVcnU8cANoLLhLthvzhDvH4OHQEYMBmX66Z4JSuMcTNL6ig9kYRXmPtZIrq4iQi119e+I5vx/mWpaipx48AAAACXBIWXMAABJ0AAASdAHeZh94AAAAPHRFWHRTb2Z0d2FyZQBDcmVhdGVkIHdpdGggdGhlIFdvbGZyYW0gTGFuZ3VhZ2UgOiB3d3cud29sZnJhbS5jb21coqaFAAAAIXRFWHRDcmVhdGlvbiBUaW1lADIwMjE6MDQ6MjQgMTM6MzI6MzaI7JaXAAADjUlEQVR4nO2brXLrMBCF13f6EHkAp6ATECyDTlmTkKLQMBk6pFMSUFDSKbFgzEqDQmqVFcVPkAmI9C66wPnPta3k1vbK9oc8zk58NGektXZlSykFDWXzp2wBCUjOmOs4lsPklQF40JB6U6QeXbjrvC0hiiIAMrwqAA+aUhVaQgoAxBfXB+AhSyrWRalmNDagoAY2SH6SICVzHctyXF6qrCNQpuhfRDKnPY4AACD64N60d3ADEVWfDba3UEoJnwJAMOeSjVaTTaKc9soWt6fqNsTY3rNPAIL+CD6nPbtsOefUwwYAezAkAGQ4QOgB1MeGmGj2hXPPXRcb+BcMKUC0EmUr+Sf1sIGz9cDznihAMOcAAFJKVNNCzwbuWjEFFtLkegkA0SpxGckM4K5lOUxK5q4Hng3Q2/ggufsh7CKTRKZUjZqS8AkN95WRzXWeCJ8cizytxmQGHEQd/hSXdmhYYBlKT2q2DSLcqxY+MaSWZhjZu2i7t9/m2Lcd6NzifOczmstSNJ8H9AnR5rMyXFJTkuwNwkXjQg7o2yDZaDVZeDlqqTG6ixJ3R/CJqRhWOLluNLRskMyZPy28ODVzF1OhvigkG7VzHHf2osRdqx8AgBVsbtCwOVLz22xnQ3KLqjc9ecet9dKUEzcAxrSoKswNQNyi8kAytz0Ogjl/Xr+tJkKV0B55eHgo8nE/Pz/5/fn39/f7+3tKwMvLy+PjY3x9kBts79mfBeOgP/LF4mIPJHNHs2V6TGeySF/R7u/vL3xsXpwNJ4oA+s7ysECUPpxWq5U+nFartbs+StH2YEjGEVzXorq963QyQu7aGQGvr69XPDkXzoYTRUA6R/fSh9Ptdrvdru7jjrLveU2yIUb4JM/a8tG+AXmLqsIc2IC+RVVh/uBpUdUaFC0q/OScGyzVfO2DgHqczECP6TbszowUfnLkAjRE5rbcFcHpsQeUOx4dkUYfrJdfM/CF8lC/z2mJNNkG/jHuTBRqD7RFljBLf4ftXCeEhgLhWqSU0hdprA0nKy6hBqSFZJHG2qCUUkoIEfp0O1SUCVpPpNk2bNnNfZxGxKSJrIYNypAafaJI07dvO2xvQsvWkEmiyMrYANC+I9lBZZMgskI2iFWE9hPDHQkiTd6+HcPnSzqZInchUWQZmer/ESE97ImIkCJskFwg0lAblAh3b+JAqI/OAqXUJSKbtg8KKpSiTaaxAQV/AVvG6aw4ffd9AAAAAElFTkSuQmCC\"></div>"
      ],
      "text/plain": [
       "FormBox[RowBox[{SuperscriptBox[\"x\", \"2\"], \"-\", \n",
       "\n",
       " \n",
       ">        FractionBox[RowBox[{\"11\", \" \", \"x\"}], \"5\"], \"+\", FractionBox[\"1\", \"5\"]}], \n",
       "\n",
       " \n",
       ">      TraditionalForm]\n"
      ]
     },
     "execution_count": 14,
     "metadata": {
      "text/html": [],
      "text/plain": []
     },
     "output_type": "execute_result"
    }
   ],
   "source": [
    "coef = lastCoef[myGcd, x];\n",
    "normMyGcd = Simplify[myGcd / coef];\n",
    "normMyGcd // TraditionalForm"
   ]
  },
  {
   "cell_type": "markdown",
   "id": "0bd73fd7",
   "metadata": {},
   "source": [
    "Сравниваем полученные НОД от wolfram и от нашей функции"
   ]
  },
  {
   "cell_type": "code",
   "execution_count": 15,
   "id": "79f49989",
   "metadata": {},
   "outputs": [
    {
     "data": {
      "text/html": [
       "<style>\n",
       "\t\t\t\t\t\t\t\t\t\t\t\t\t.grid-container {\n",
       "\t\t\t\t\t\t\t\t\t\t\t\t\t\tdisplay: inline-grid;\n",
       "\t\t\t\t\t\t\t\t\t\t\t\t\t\tgrid-template-columns: auto;\n",
       "\t\t\t\t\t\t\t\t\t\t\t\t\t}\n",
       "\t\t\t\t\t\t\t\t\t\t\t\t</style>\n",
       "\n",
       "\t\t\t\t\t\t\t\t\t\t\t\t<div><div class=\"grid-container\"><div class=\"grid-item\"><img alt=\"Output\" src=\"data:image/png;base64,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\"></div><div class=\"grid-item\"><img alt=\"Output\" src=\"data:image/png;base64,iVBORw0KGgoAAAANSUhEUgAAAIIAAAA2CAIAAACEOtbJAAAAz3pUWHRSYXcgcHJvZmlsZSB0eXBlIGV4aWYAAHjabU9BDgMhCLz7ij4BAUGf425t0h/0+R1W08amkywMwwBrGq/nI90CnClp8WrNjABt2riDVJqYOVO74pR49fKuJ7Gld0jl27Cx9GPXffm5/iyidUHiArjoGliLhKee+6yP5ede675IaIPXz6//rVWcrVh2RVQmd2vgNYEiWWEqbg87zWDMdmfSE3mYO8bMwyE9BgM8fHePZALhHk+Q+LJ0ZEVkwT3UAi6oIlY+0JXLE895AyAGWpix5E/lAAAACXBIWXMAABJ0AAASdAHeZh94AAAAPHRFWHRTb2Z0d2FyZQBDcmVhdGVkIHdpdGggdGhlIFdvbGZyYW0gTGFuZ3VhZ2UgOiB3d3cud29sZnJhbS5jb21coqaFAAAAIXRFWHRDcmVhdGlvbiBUaW1lADIwMjE6MDQ6MjQgMTM6MzI6MzhvVLuQAAADjUlEQVR4nO2brXLrMBCF13f6EHkAp6ATECyDTlmTkKLQMBk6pFMSUFDSKbFgzEqDQmqVFcVPkAmI9C66wPnPta3k1vbK9oc8zk58NGektXZlSykFDWXzp2wBCUjOmOs4lsPklQF40JB6U6QeXbjrvC0hiiIAMrwqAA+aUhVaQgoAxBfXB+AhSyrWRalmNDagoAY2SH6SICVzHctyXF6qrCNQpuhfRDKnPY4AACD64N60d3ADEVWfDba3UEoJnwJAMOeSjVaTTaKc9soWt6fqNsTY3rNPAIL+CD6nPbtsOefUwwYAezAkAGQ4QOgB1MeGmGj2hXPPXRcb+BcMKUC0EmUr+Sf1sIGz9cDznihAMOcAAFJKVNNCzwbuWjEFFtLkegkA0SpxGckM4K5lOUxK5q4Hng3Q2/ggufsh7CKTRKZUjZqS8AkN95WRzXWeCJ8cizytxmQGHEQd/hSXdmhYYBlKT2q2DSLcqxY+MaSWZhjZu2i7t9/m2Lcd6NzifOczmstSNJ8H9AnR5rMyXFJTkuwNwkXjQg7o2yDZaDVZeDlqqTG6ixJ3R/CJqRhWOLluNLRskMyZPy28ODVzF1OhvigkG7VzHHf2osRdqx8AgBVsbtCwOVLz22xnQ3KLqjc9ecet9dKUEzcAxrSoKswNQNyi8kAytz0Ogjl/Xr+tJkKV0B55eHgo8nE/Pz/5/fn39/f7+3tKwMvLy+PjY3x9kBts79mfBeOgP/LF4mIPJHNHs2V6TGeySF/R7u/vL3xsXpwNJ4oA+s7ysECUPpxWq5U+nFartbs+StH2YEjGEVzXorq963QyQu7aGQGvr69XPDkXzoYTRUA6R/fSh9Ptdrvdru7jjrLveU2yIUb4JM/a8tG+AXmLqsIc2IC+RVVh/uBpUdUaFC0q/OScGyzVfO2DgHqczECP6TbszowUfnLkAjRE5rbcFcHpsQeUOx4dkUYfrJdfM/CF8lC/z2mJNNkG/jHuTBRqD7RFljBLf4ftXCeEhgLhWqSU0hdprA0nKy6hBqSFZJHG2qCUUkoIEfp0O1SUCVpPpNk2bNnNfZxGxKSJrIYNypAafaJI07dvO2xvQsvWkEmiyMrYANC+I9lBZZMgskI2iFWE9hPDHQkiTd6+HcPnSzqZInchUWQZmer/ESE97ImIkCJskFwg0lAblAh3b+JAqI/OAqXUJSKbtg8KKpSiTaaxAQV/AVvG6aw4ffd9AAAAAElFTkSuQmCC\"></div><div class=\"grid-item\"><img alt=\"Output\" src=\"data:image/png;base64,iVBORw0KGgoAAAANSUhEUgAAAIIAAAA2CAIAAACEOtbJAAAAz3pUWHRSYXcgcHJvZmlsZSB0eXBlIGV4aWYAAHjabU9BDgMhCLz7ij4BAUGf425t0h/0+R1W08amkywMwwBrGq/nI90CnClp8WrNjABt2riDVJqYOVO74pR49fKuJ7Gld0jl27Cx9GPXffm5/iyidUHiArjoGliLhKee+6yP5ede675IaIPXz6//rVWcrVh2RVQmd2vgNYEiWWEqbg87zWDMdmfSE3mYO8bMwyE9BgM8fHePZALhHk+Q+LJ0ZEVkwT3UAi6oIlY+0JXLE895AyAGWpix5E/lAAAACXBIWXMAABJ0AAASdAHeZh94AAAAPHRFWHRTb2Z0d2FyZQBDcmVhdGVkIHdpdGggdGhlIFdvbGZyYW0gTGFuZ3VhZ2UgOiB3d3cud29sZnJhbS5jb21coqaFAAAAIXRFWHRDcmVhdGlvbiBUaW1lADIwMjE6MDQ6MjQgMTM6MzI6MzhvVLuQAAADjUlEQVR4nO2brXLrMBCF13f6EHkAp6ATECyDTlmTkKLQMBk6pFMSUFDSKbFgzEqDQmqVFcVPkAmI9C66wPnPta3k1vbK9oc8zk58NGektXZlSykFDWXzp2wBCUjOmOs4lsPklQF40JB6U6QeXbjrvC0hiiIAMrwqAA+aUhVaQgoAxBfXB+AhSyrWRalmNDagoAY2SH6SICVzHctyXF6qrCNQpuhfRDKnPY4AACD64N60d3ADEVWfDba3UEoJnwJAMOeSjVaTTaKc9soWt6fqNsTY3rNPAIL+CD6nPbtsOefUwwYAezAkAGQ4QOgB1MeGmGj2hXPPXRcb+BcMKUC0EmUr+Sf1sIGz9cDznihAMOcAAFJKVNNCzwbuWjEFFtLkegkA0SpxGckM4K5lOUxK5q4Hng3Q2/ggufsh7CKTRKZUjZqS8AkN95WRzXWeCJ8cizytxmQGHEQd/hSXdmhYYBlKT2q2DSLcqxY+MaSWZhjZu2i7t9/m2Lcd6NzifOczmstSNJ8H9AnR5rMyXFJTkuwNwkXjQg7o2yDZaDVZeDlqqTG6ixJ3R/CJqRhWOLluNLRskMyZPy28ODVzF1OhvigkG7VzHHf2osRdqx8AgBVsbtCwOVLz22xnQ3KLqjc9ecet9dKUEzcAxrSoKswNQNyi8kAytz0Ogjl/Xr+tJkKV0B55eHgo8nE/Pz/5/fn39/f7+3tKwMvLy+PjY3x9kBts79mfBeOgP/LF4mIPJHNHs2V6TGeySF/R7u/vL3xsXpwNJ4oA+s7ysECUPpxWq5U+nFartbs+StH2YEjGEVzXorq963QyQu7aGQGvr69XPDkXzoYTRUA6R/fSh9Ptdrvdru7jjrLveU2yIUb4JM/a8tG+AXmLqsIc2IC+RVVh/uBpUdUaFC0q/OScGyzVfO2DgHqczECP6TbszowUfnLkAjRE5rbcFcHpsQeUOx4dkUYfrJdfM/CF8lC/z2mJNNkG/jHuTBRqD7RFljBLf4ftXCeEhgLhWqSU0hdprA0nKy6hBqSFZJHG2qCUUkoIEfp0O1SUCVpPpNk2bNnNfZxGxKSJrIYNypAafaJI07dvO2xvQsvWkEmiyMrYANC+I9lBZZMgskI2iFWE9hPDHQkiTd6+HcPnSzqZInchUWQZmer/ESE97ImIkCJskFwg0lAblAh3b+JAqI/OAqXUJSKbtg8KKpSiTaaxAQV/AVvG6aw4ffd9AAAAAElFTkSuQmCC\"></div></div></div>"
      ],
      "text/plain": [
       "Полиномы одинаковы:\n",
       "FormBox[RowBox[{SuperscriptBox[\"x\", \"2\"], \"-\", \n",
       "\n",
       " \n",
       ">        FractionBox[RowBox[{\"11\", \" \", \"x\"}], \"5\"], \"+\", FractionBox[\"1\", \"5\"]}], \n",
       "\n",
       " \n",
       ">      TraditionalForm]\n",
       "\n",
       "FormBox[RowBox[{SuperscriptBox[\"x\", \"2\"], \"-\", \n",
       "\n",
       " \n",
       ">        FractionBox[RowBox[{\"11\", \" \", \"x\"}], \"5\"], \"+\", FractionBox[\"1\", \"5\"]}], \n",
       "\n",
       " \n",
       ">      TraditionalForm]\n"
      ]
     },
     "execution_count": 15,
     "metadata": {
      "text/html": [],
      "text/plain": []
     },
     "output_type": "execute_result"
    }
   ],
   "source": [
    "If[TautologyQ[normWolfGcd == normMyGcd], \"Полиномы одинаковы:\", \"Что-то пошло не так:\"]\n",
    "normWolfGcd // TraditionalForm\n",
    "normMyGcd // TraditionalForm"
   ]
  },
  {
   "cell_type": "markdown",
   "id": "6cd43de8",
   "metadata": {},
   "source": [
    "Проверяем, что выражение *f*u + *g*v равно нашему полученному НОД"
   ]
  },
  {
   "cell_type": "code",
   "execution_count": 18,
   "id": "913fb2dd",
   "metadata": {},
   "outputs": [
    {
     "data": {
      "text/html": [
       "<style>\n",
       "\t\t\t\t\t\t\t\t\t\t\t\t\t.grid-container {\n",
       "\t\t\t\t\t\t\t\t\t\t\t\t\t\tdisplay: inline-grid;\n",
       "\t\t\t\t\t\t\t\t\t\t\t\t\t\tgrid-template-columns: auto;\n",
       "\t\t\t\t\t\t\t\t\t\t\t\t\t}\n",
       "\t\t\t\t\t\t\t\t\t\t\t\t</style>\n",
       "\n",
       "\t\t\t\t\t\t\t\t\t\t\t\t<div><div class=\"grid-container\"><div class=\"grid-item\"><img alt=\"Output\" src=\"data:image/png;base64,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\"></div><div class=\"grid-item\"><img alt=\"Output\" src=\"data:image/png;base64,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\"></div><div class=\"grid-item\"><img alt=\"Output\" src=\"data:image/png;base64,iVBORw0KGgoAAAANSUhEUgAAAUYAAAA2CAIAAAA04KfSAAAA0HpUWHRSYXcgcHJvZmlsZSB0eXBlIGV4aWYAAHjabU/tbUQhDPvPFDcC+cCBcXh3nNQNOv6ZB1VFVUskjuMEJY3vr3d6TKjk5CUqGpAJb960k9S8sLLkdscbjs3k1JNhEemUym8DY+vXqcf2a/2zKOsiNn8gN98De5Hp0qWv+tp+7bWeiywfiJ+z5P/aLRQFEs7omiPQyGsiZULRXAJvPAEaBS/N/mQeiOAYYjqsz8EJHXG6R4JReM0TbD6xzuyMavyPtZEbq05V9GLXbs885wMhG1qT8dBUIQAAAAlwSFlzAAASdAAAEnQB3mYfeAAAADx0RVh0U29mdHdhcmUAQ3JlYXRlZCB3aXRoIHRoZSBXb2xmcmFtIExhbmd1YWdlIDogd3d3LndvbGZyYW0uY29tXKKmhQAAACF0RVh0Q3JlYXRpb24gVGltZQAyMDIxOjA0OjI0IDEzOjMyOjQxWcmV8wAABrJJREFUeJztnS+P204Tx8ePfuBYD94LsE9VFKl8DYqdkKBIRSlaQ6fgWEBBQKUjNoxZ0ElBIedVUVGMC6KA7L6AvoQyPyDpXf74z8ZZO+tkPujkc+3vambq3dnZOSNJEkAQ5Fr4X8o1wYLAtW3DDkTtehBEKYXO3Cxvl1D73+EF5trjJcRxDED61cpDkGopdOZmebuc2qOvtDNZLBaLiFaqDUHqoNCZm+XtcmrTJt4IgjQWDGkEuSowpBFEDsEOMlMicG3DsF12UVmHHKXHEAQ5RgS2NYwBACB+Zt7E2bmgF/iVRhAJTG+RJAn3KQCEcyaCwWrEkyRJkmTiXFrcHhjSCCKN6T35BCDsDGA6ccxLy0kFQxpBTsDs9gkA6Xf1jGfAkEaQEsSzV21rzTCkEeQE2Cv0KUC84pdWkgWGNIJIw4J11/N6FCCcMwAAIYRun+v0kBbrJQDEK21mF8w1NjSjuB7J4BJ2LHTmwhuYaxh2IETgrrueCeBsY1ow95mbNS+qi2MzOYD7ZP8G4vPDe2qG+4RGSZIkSUQBYPsz0jTqt2OhM8t5++au3V9FFAAIjeoNDTm1RqL9eWnBGDjbDQMR2NaszxeetvlGJAu0Yz00oHrMdN638s3HNrQf0Q+aCNqxHhSnxwQL3CpXSWwe0p5exTq6I5jrMt0SEGjH6lAZ0iKwB+vuZG8y9ZYPUZEVEcEYomrL75rbBCNLmOlMntYDrc4W1GDHW0bl0v0o4XG4nj8r1faeXamKiBJCSI7SwhsuhYRybRRXb8fbRlFIc5+kuAz3iTI/imhdLrnJZua8rPAGFfASj88Txn2ixWZBfXbUmDLGlUbJxFsEg2F8XPbKnoftkZKcpgjsee9fepS5Ok0iq0EEA0vtKE1vRCEcX3a5cHN2TEW9cfdQEdLidRYfF7KLYBxC2DFs22VnVdgw17CGcdj5tx7vACZWyuD06EVrk9GO9aAgpDMi+nW2PTAehx3LsosS4dktI5zJwcyiIYkV7ZpgWC2SE9PiBHJecn12bBznz91zVnCc88in/1Jk2Yuo3TQajfYu1L/8U7KWPnNEqcnGs5XnFG0dFSblkfkKreyoLeWMK817qcm3b99+//6dY8hfv36lXd7UnKbXDZimaXoTx3sKbGsYx8NB0E0tGDK9ReKBCFxrGIZz9rQer0Y80fSIuRT6jmi5FnCsw/SmvCv9jKy6Zm1G/efPny9fvtT2uoeHh5eXl+qe/+PHj58/f+bc8PLy8vDwsPn5PaQ/ffr04cOHaiSZ3oKDbQ3j2avwMhNmpvfkz8Jh2Bn4fFHGD0TgDmbL/Hvao0V9Ez7pER0pj2OAjr3c/XRWrNxUdv5AAzve3d19/vz59DeX5P7+Pue35xv348ePf//+zXnF3d3d28/vIf3169ecf3M2pjeiw06BncxunwxjKN0y4rHVbhfc0rLKPboksiM6Uh7HQNp712pWfg4Xt+P9/f3379/LvVw9Zxu31+v1ej3Jt9VY4221CBSE9Ib8b3kOpuPpmXIpHNGhchEsw9VoUudoTjn4K/dFvz47lqNm454f0uZjGyBOX6HtwVcx6U9z79m0jIjDFQfQYNmpAP1GlJ71EMFAvoUt8QvOUOk36htCwVfaapFt45b8cJ0v6WiS6wjBuut5j6thGM7ZxHFACKFwiXcB9BqRWC8BSPoUT016bINeo749FGTNuU8ONzZ4RHePiPOIZp4XjygA8Tn36fYJ260WHtGLbHxs911o0Y5b9g0KRlRqn6NI2FbXiU+VRTc76kvFm1hKarxT6od59LYdDYT6Oe0fdGkZkUh0jaitCcapVpcRVm1E62RHzak4pBV1NcEuFdrDXKMDEZZsXT2Kzkub3tSH2fNtluE3AeaOlz7HeL4BUkO6TN8C01tMW3P9+mcgAMDcMYxwCpWH0l4dFSKhM32qv8sp6y8eUVw76QWPaHYmD9mgtFdHhcjoPF5Li8AewBT/S0duh6b4vJTOo31p9jxsjxLdx4Yg6miKz0vqTP+wE0KjSrupIIgmNMXnZXXuh/TBVJ3gIgy5dpri89I609Jjkn0LEORaaIrPy+jMqR57+9BrO0AEUUtTfD5PZ06piektuE/0/vPYCKKSpvh8ns786jHTG9HKZCGIhjTF5zN1FhWEWq0T2swhyBXQFJ/P0FkU0nyV0nMfQa6Ypvh8hs6CFgjFfQsQ5Lpois9n6dz9SgvmGob9dvJCMNee96Z4ege5Xpri86fo3EuNS/ctQJDroCk+L69TUQsEBEH0QOWfjEcQ5OJgSCPIVfF/RQf+vGSvx9AAAAAASUVORK5CYII=\"></div><div class=\"grid-item\"><img alt=\"Output\" src=\"data:image/png;base64,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\"></div></div></div>"
      ],
      "text/plain": [
       "FormBox[RowBox[{RowBox[{RowBox[{RowBox[{\"(\", \n",
       "\n",
       " \n",
       ">              RowBox[{RowBox[{\"-\", RowBox[{SuperscriptBox[\"x\", \"2\"]}]}], \"+\", \n",
       "\n",
       " \n",
       ">                RowBox[{\"9\", \" \", \"x\"}], \"+\", \"1\"}], \")\"}], \" \", \n",
       "\n",
       " \n",
       ">            RowBox[{\"(\", RowBox[{RowBox[{\"10\", \" \", SuperscriptBox[\"x\", \"4\"]}], \"-\", \n",
       "\n",
       " \n",
       ">                RowBox[{\"42\", \" \", SuperscriptBox[\"x\", \"3\"]}], \"+\", \n",
       "\n",
       " \n",
       ">                RowBox[{\"56\", \" \", SuperscriptBox[\"x\", \"2\"]}], \"-\", \n",
       "\n",
       " \n",
       ">                RowBox[{\"26\", \" \", \"x\"}], \"+\", \"2\"}], \")\"}]}], \"+\", \n",
       "\n",
       " \n",
       ">          RowBox[{RowBox[{\"(\", RowBox[{RowBox[{\"2\", \" \", \"x\"}], \"-\", \"18\"}], \")\"}], \"\\\n",
       " \n",
       ">    \", \n",
       "         RowBox[{\"(\", RowBox[{RowBox[{\"5\", \" \", SuperscriptBox[\"x\", \"5\"]}],\\\n",
       " \n",
       ">    \"-\", \n",
       "             RowBox[{\"21\", \" \", SuperscriptBox[\"x\", \"4\"]}], \"+\", \n",
       "\n",
       " \n",
       ">                RowBox[{\"23\", \" \", SuperscriptBox[\"x\", \"3\"]}], \"-\", \n",
       "\n",
       " \n",
       ">                RowBox[{\"37\", \" \", SuperscriptBox[\"x\", \"2\"]}], \"+\", \n",
       "\n",
       " \n",
       ">                RowBox[{\"77\", \" \", \"x\"}], \"-\", \"7\"}], \")\"}]}]}], \"\", \n",
       "\n",
       " \n",
       ">        RowBox[{SuperscriptBox[\"x\", \"2\"], \"-\", \n",
       "\n",
       " \n",
       ">          FractionBox[RowBox[{\"11\", \" \", \"x\"}], \"5\"], \"+\", FractionBox[\"1\", \"5\"]}]}], \n",
       "\n",
       " \n",
       ">      TraditionalForm]\n",
       "\n",
       "FormBox[RowBox[{RowBox[{\"128\", \" \", \n",
       "\n",
       " \n",
       ">          RowBox[{\"(\", RowBox[{RowBox[{\"5\", \" \", SuperscriptBox[\"x\", \"2\"]}], \"-\", \n",
       "\n",
       " \n",
       ">              RowBox[{\"11\", \" \", \"x\"}], \"+\", \"1\"}], \")\"}]}], \"\", \n",
       "\n",
       " \n",
       ">        RowBox[{SuperscriptBox[\"x\", \"2\"], \"-\", \n",
       "\n",
       " \n",
       ">          FractionBox[RowBox[{\"11\", \" \", \"x\"}], \"5\"], \"+\", FractionBox[\"1\", \"5\"]}]}], \n",
       "\n",
       " \n",
       ">      TraditionalForm]\n",
       "\n",
       "FormBox[RowBox[{RowBox[{FractionBox[\"1\", \"5\"], \" \", \n",
       "\n",
       " \n",
       ">          RowBox[{\"(\", RowBox[{RowBox[{\"5\", \" \", SuperscriptBox[\"x\", \"2\"]}], \"-\", \n",
       "\n",
       " \n",
       ">              RowBox[{\"11\", \" \", \"x\"}], \"+\", \"1\"}], \")\"}]}], \"\", \n",
       "\n",
       " \n",
       ">        RowBox[{SuperscriptBox[\"x\", \"2\"], \"-\", \n",
       "\n",
       " \n",
       ">          FractionBox[RowBox[{\"11\", \" \", \"x\"}], \"5\"], \"+\", FractionBox[\"1\", \"5\"]}]}], \n",
       "\n",
       " \n",
       ">      TraditionalForm]\n",
       "\n",
       "f*u + g*v == полученному НОД"
      ]
     },
     "execution_count": 19,
     "metadata": {
      "text/html": [],
      "text/plain": []
     },
     "output_type": "execute_result"
    }
   ],
   "source": [
    "left = f * u + g * v;\n",
    "left == normMyGcd // TraditionalForm\n",
    "Simplify[left] == normMyGcd // TraditionalForm\n",
    "Simplify[left]/coef == normMyGcd // TraditionalForm\n",
    "If[TautologyQ[Simplify[Simplify[left]/coef] == normMyGcd], \"f*u + g*v == полученному НОД\", \"No\"]"
   ]
  },
  {
   "cell_type": "code",
   "execution_count": null,
   "id": "08050ddf",
   "metadata": {},
   "outputs": [],
   "source": []
  }
 ],
 "metadata": {
  "kernelspec": {
   "display_name": "Wolfram Language 12.2",
   "language": "Wolfram Language",
   "name": "wolframlanguage12.2"
  },
  "language_info": {
   "codemirror_mode": "mathematica",
   "file_extension": ".m",
   "mimetype": "application/vnd.wolfram.m",
   "name": "Wolfram Language",
   "pygments_lexer": "mathematica",
   "version": "12.0"
  }
 },
 "nbformat": 4,
 "nbformat_minor": 5
}
